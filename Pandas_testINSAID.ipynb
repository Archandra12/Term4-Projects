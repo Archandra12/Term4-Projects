{
  "nbformat": 4,
  "nbformat_minor": 0,
  "metadata": {
    "colab": {
      "name": "Pandas_testINSAID.ipynb",
      "provenance": [],
      "authorship_tag": "ABX9TyNdbSH0bHzYvsVXAQgQUw2M",
      "include_colab_link": true
    },
    "kernelspec": {
      "name": "python3",
      "display_name": "Python 3"
    },
    "language_info": {
      "name": "python"
    }
  },
  "cells": [
    {
      "cell_type": "markdown",
      "metadata": {
        "id": "view-in-github",
        "colab_type": "text"
      },
      "source": [
        "<a href=\"https://colab.research.google.com/github/Archandra12/Term4-Projects/blob/main/Pandas_testINSAID.ipynb\" target=\"_parent\"><img src=\"https://colab.research.google.com/assets/colab-badge.svg\" alt=\"Open In Colab\"/></a>"
      ]
    },
    {
      "cell_type": "markdown",
      "metadata": {
        "id": "5aHd_M1pY4XU"
      },
      "source": [
        "An attempt to use Pandas DataFrame manipulation to answer a few questions. \n",
        "\n",
        "Questions are available at https://notepad.pw/l7nfy292\n",
        "\n",
        "##Let's begin\n",
        "\n",
        "import libraries"
      ]
    },
    {
      "cell_type": "code",
      "metadata": {
        "id": "ASLFEvIyCzbE"
      },
      "source": [
        "import numpy as np\n",
        "import pandas as pd"
      ],
      "execution_count": 3,
      "outputs": []
    },
    {
      "cell_type": "markdown",
      "metadata": {
        "id": "uZ0pRB2WLwMe"
      },
      "source": [
        "### Dataset 1. VideoGameSales.csv\n",
        "The dataset can be imported as pandas dataframe using the following link: https://raw.githubusercontent.com/insaid2018/INSAID-Activities/main/Data%20Detective%20Challenge/VideoGameSales.csv\n",
        "\n",
        "reference:\n",
        "https://kanoki.org/2019/03/27/pandas-select-rows-by-condition-and-string-operations/\n",
        "https://stackoverflow.com/questions/41689722/how-to-select-rows-that-do-not-start-with-some-str-in-pandas/41689928"
      ]
    },
    {
      "cell_type": "code",
      "metadata": {
        "id": "0iNaCb66Dh-6"
      },
      "source": [
        "df_videogames = pd.read_csv('https://raw.githubusercontent.com/insaid2018/INSAID-Activities/main/Data%20Detective%20Challenge/VideoGameSales.csv')"
      ],
      "execution_count": 4,
      "outputs": []
    },
    {
      "cell_type": "code",
      "metadata": {
        "colab": {
          "base_uri": "https://localhost:8080/",
          "height": 204
        },
        "id": "VK8Trrd1ElR0",
        "outputId": "73e630c0-9cce-47f4-a1cb-7b8606a7d6e7"
      },
      "source": [
        "df_videogames.head(5)"
      ],
      "execution_count": null,
      "outputs": [
        {
          "output_type": "execute_result",
          "data": {
            "text/html": [
              "<div>\n",
              "<style scoped>\n",
              "    .dataframe tbody tr th:only-of-type {\n",
              "        vertical-align: middle;\n",
              "    }\n",
              "\n",
              "    .dataframe tbody tr th {\n",
              "        vertical-align: top;\n",
              "    }\n",
              "\n",
              "    .dataframe thead th {\n",
              "        text-align: right;\n",
              "    }\n",
              "</style>\n",
              "<table border=\"1\" class=\"dataframe\">\n",
              "  <thead>\n",
              "    <tr style=\"text-align: right;\">\n",
              "      <th></th>\n",
              "      <th>Rank</th>\n",
              "      <th>Name</th>\n",
              "      <th>Platform</th>\n",
              "      <th>Year</th>\n",
              "      <th>Genre</th>\n",
              "      <th>Publisher</th>\n",
              "      <th>NA_Sales_Volume</th>\n",
              "      <th>EU_Sales_Volume</th>\n",
              "      <th>JP_Sales_Volume</th>\n",
              "      <th>Other_Sales_Volume</th>\n",
              "    </tr>\n",
              "  </thead>\n",
              "  <tbody>\n",
              "    <tr>\n",
              "      <th>0</th>\n",
              "      <td>1</td>\n",
              "      <td>Wii Sports</td>\n",
              "      <td>Wii</td>\n",
              "      <td>2006.0</td>\n",
              "      <td>Sports</td>\n",
              "      <td>Nintendo</td>\n",
              "      <td>41.49</td>\n",
              "      <td>29.02</td>\n",
              "      <td>3.77</td>\n",
              "      <td>8.46</td>\n",
              "    </tr>\n",
              "    <tr>\n",
              "      <th>1</th>\n",
              "      <td>2</td>\n",
              "      <td>Super Mario Bros.</td>\n",
              "      <td>NES</td>\n",
              "      <td>1985.0</td>\n",
              "      <td>Platform</td>\n",
              "      <td>Nintendo</td>\n",
              "      <td>29.08</td>\n",
              "      <td>3.58</td>\n",
              "      <td>6.81</td>\n",
              "      <td>0.77</td>\n",
              "    </tr>\n",
              "    <tr>\n",
              "      <th>2</th>\n",
              "      <td>3</td>\n",
              "      <td>Mario Kart Wii</td>\n",
              "      <td>Wii</td>\n",
              "      <td>2008.0</td>\n",
              "      <td>Racing</td>\n",
              "      <td>Nintendo</td>\n",
              "      <td>15.85</td>\n",
              "      <td>12.88</td>\n",
              "      <td>3.79</td>\n",
              "      <td>3.31</td>\n",
              "    </tr>\n",
              "    <tr>\n",
              "      <th>3</th>\n",
              "      <td>4</td>\n",
              "      <td>Wii Sports Resort</td>\n",
              "      <td>Wii</td>\n",
              "      <td>2009.0</td>\n",
              "      <td>Sports</td>\n",
              "      <td>Nintendo</td>\n",
              "      <td>15.75</td>\n",
              "      <td>11.01</td>\n",
              "      <td>3.28</td>\n",
              "      <td>2.96</td>\n",
              "    </tr>\n",
              "    <tr>\n",
              "      <th>4</th>\n",
              "      <td>5</td>\n",
              "      <td>Pokemon Red/Pokemon Blue</td>\n",
              "      <td>GB</td>\n",
              "      <td>1996.0</td>\n",
              "      <td>Role-Playing</td>\n",
              "      <td>Nintendo</td>\n",
              "      <td>11.27</td>\n",
              "      <td>8.89</td>\n",
              "      <td>10.22</td>\n",
              "      <td>1.00</td>\n",
              "    </tr>\n",
              "  </tbody>\n",
              "</table>\n",
              "</div>"
            ],
            "text/plain": [
              "   Rank                      Name Platform    Year         Genre Publisher  NA_Sales_Volume  EU_Sales_Volume  JP_Sales_Volume  Other_Sales_Volume\n",
              "0     1                Wii Sports      Wii  2006.0        Sports  Nintendo            41.49            29.02             3.77                8.46\n",
              "1     2         Super Mario Bros.      NES  1985.0      Platform  Nintendo            29.08             3.58             6.81                0.77\n",
              "2     3            Mario Kart Wii      Wii  2008.0        Racing  Nintendo            15.85            12.88             3.79                3.31\n",
              "3     4         Wii Sports Resort      Wii  2009.0        Sports  Nintendo            15.75            11.01             3.28                2.96\n",
              "4     5  Pokemon Red/Pokemon Blue       GB  1996.0  Role-Playing  Nintendo            11.27             8.89            10.22                1.00"
            ]
          },
          "metadata": {
            "tags": []
          },
          "execution_count": 131
        }
      ]
    },
    {
      "cell_type": "markdown",
      "metadata": {
        "id": "IuH35MBILM7V"
      },
      "source": [
        "#### 1. Which of the following genres are in the top 5 in JP and NA region based on the total sales volume?"
      ]
    },
    {
      "cell_type": "code",
      "metadata": {
        "colab": {
          "base_uri": "https://localhost:8080/"
        },
        "id": "riye9ZFjEssM",
        "outputId": "80807040-941a-4113-aa90-cee990f7a63d"
      },
      "source": [
        "  print(df_videogames.groupby('Genre')['NA_Sales_Volume'].sum().nlargest(7))\n",
        "  df_videogames.groupby('Genre')['JP_Sales_Volume'].sum().nlargest(7)"
      ],
      "execution_count": 6,
      "outputs": [
        {
          "output_type": "stream",
          "text": [
            "Genre\n",
            "Action          877.83\n",
            "Sports          683.35\n",
            "Shooter         582.60\n",
            "Platform        447.05\n",
            "Misc            410.24\n",
            "Racing          359.42\n",
            "Role-Playing    327.28\n",
            "Name: NA_Sales_Volume, dtype: float64\n"
          ],
          "name": "stdout"
        },
        {
          "output_type": "execute_result",
          "data": {
            "text/plain": [
              "Genre\n",
              "Role-Playing    352.31\n",
              "Action          159.95\n",
              "Sports          135.37\n",
              "Platform        130.77\n",
              "Misc            107.76\n",
              "Fighting         87.35\n",
              "Simulation       63.70\n",
              "Name: JP_Sales_Volume, dtype: float64"
            ]
          },
          "metadata": {
            "tags": []
          },
          "execution_count": 6
        }
      ]
    },
    {
      "cell_type": "markdown",
      "metadata": {
        "id": "y5l-JhxRLTL_"
      },
      "source": [
        "#### 2.Which of the top 5 publishers enjoyed the highest amount of sales volume in the NA region?"
      ]
    },
    {
      "cell_type": "code",
      "metadata": {
        "colab": {
          "base_uri": "https://localhost:8080/"
        },
        "id": "Jd0SC7CuLc7N",
        "outputId": "646b0a23-aa28-4750-b44d-91465c34c25c"
      },
      "source": [
        " print(df_videogames.groupby('Publisher')['NA_Sales_Volume'].sum().nlargest(5))"
      ],
      "execution_count": 7,
      "outputs": [
        {
          "output_type": "stream",
          "text": [
            "Publisher\n",
            "Nintendo                       816.87\n",
            "Electronic Arts                595.07\n",
            "Activision                     429.70\n",
            "Sony Computer Entertainment    265.22\n",
            "Ubisoft                        253.43\n",
            "Name: NA_Sales_Volume, dtype: float64\n"
          ],
          "name": "stdout"
        }
      ]
    },
    {
      "cell_type": "markdown",
      "metadata": {
        "id": "guOOrLLt7_Sk"
      },
      "source": [
        "####4.0 Which of the following platform saw the lowest percentage increase (positive) in global sales volume of games from 2013 to 2014? Note: Global sales can be calculated as the sum of sales of all the regions in the dataset. \n",
        "\n"
      ]
    },
    {
      "cell_type": "code",
      "metadata": {
        "id": "fRj0ZDXxG6Ma"
      },
      "source": [
        "df_videogames['Global_Sales_Volume'] = df_videogames['NA_Sales_Volume'] + df_videogames['EU_Sales_Volume']\t+ df_videogames['JP_Sales_Volume']\t+ df_videogames['Other_Sales_Volume']"
      ],
      "execution_count": 9,
      "outputs": []
    },
    {
      "cell_type": "code",
      "metadata": {
        "id": "92TqYFAPI7u4"
      },
      "source": [
        "df_videogames_2013 = df_videogames[(df_videogames['Year']== 2013) ].groupby(['Platform', 'Year'])['Global_Sales_Volume'].sum()\n",
        "df_videogames_2014 = df_videogames[(df_videogames['Year']== 2014) ].groupby(['Platform', 'Year'])['Global_Sales_Volume'].sum()"
      ],
      "execution_count": 10,
      "outputs": []
    },
    {
      "cell_type": "code",
      "metadata": {
        "id": "9SHEt-wRJJbl"
      },
      "source": [
        "df_2014 = pd.DataFrame(df_videogames_2014)"
      ],
      "execution_count": 11,
      "outputs": []
    },
    {
      "cell_type": "code",
      "metadata": {
        "id": "Gh-b7AcjJ3lg"
      },
      "source": [
        "df_2013 = pd.DataFrame(df_videogames_2013)"
      ],
      "execution_count": 12,
      "outputs": []
    },
    {
      "cell_type": "code",
      "metadata": {
        "id": "PxeZWxMMJjiF"
      },
      "source": [
        "df_2014.reset_index(inplace=True)\n",
        "df_2013.reset_index(inplace=True)"
      ],
      "execution_count": 13,
      "outputs": []
    },
    {
      "cell_type": "code",
      "metadata": {
        "id": "BG7aWPoZJp-t"
      },
      "source": [
        "df_margin = pd.merge(df_2013, df_2014,how='inner',on='Platform')"
      ],
      "execution_count": 14,
      "outputs": []
    },
    {
      "cell_type": "code",
      "metadata": {
        "id": "NxQceKE1MJ6M"
      },
      "source": [
        "df_margin['YOY'] = (df_margin['Global_Sales_Volume_y'] - df_margin['Global_Sales_Volume_x'])/df_margin['Global_Sales_Volume_x']"
      ],
      "execution_count": 15,
      "outputs": []
    },
    {
      "cell_type": "code",
      "metadata": {
        "colab": {
          "base_uri": "https://localhost:8080/",
          "height": 390
        },
        "id": "0-nEYmd-Mw2a",
        "outputId": "78a82d58-ed90-472d-f0d7-dcc225cf4f2e"
      },
      "source": [
        "df_margin # 'WiiU'"
      ],
      "execution_count": 16,
      "outputs": [
        {
          "output_type": "execute_result",
          "data": {
            "text/html": [
              "<div>\n",
              "<style scoped>\n",
              "    .dataframe tbody tr th:only-of-type {\n",
              "        vertical-align: middle;\n",
              "    }\n",
              "\n",
              "    .dataframe tbody tr th {\n",
              "        vertical-align: top;\n",
              "    }\n",
              "\n",
              "    .dataframe thead th {\n",
              "        text-align: right;\n",
              "    }\n",
              "</style>\n",
              "<table border=\"1\" class=\"dataframe\">\n",
              "  <thead>\n",
              "    <tr style=\"text-align: right;\">\n",
              "      <th></th>\n",
              "      <th>Platform</th>\n",
              "      <th>Year_x</th>\n",
              "      <th>Global_Sales_Volume_x</th>\n",
              "      <th>Year_y</th>\n",
              "      <th>Global_Sales_Volume_y</th>\n",
              "      <th>YOY</th>\n",
              "    </tr>\n",
              "  </thead>\n",
              "  <tbody>\n",
              "    <tr>\n",
              "      <th>0</th>\n",
              "      <td>3DS</td>\n",
              "      <td>2013.0</td>\n",
              "      <td>55.86</td>\n",
              "      <td>2014.0</td>\n",
              "      <td>43.12</td>\n",
              "      <td>-0.228070</td>\n",
              "    </tr>\n",
              "    <tr>\n",
              "      <th>1</th>\n",
              "      <td>DS</td>\n",
              "      <td>2013.0</td>\n",
              "      <td>1.96</td>\n",
              "      <td>2014.0</td>\n",
              "      <td>0.02</td>\n",
              "      <td>-0.989796</td>\n",
              "    </tr>\n",
              "    <tr>\n",
              "      <th>2</th>\n",
              "      <td>PC</td>\n",
              "      <td>2013.0</td>\n",
              "      <td>12.80</td>\n",
              "      <td>2014.0</td>\n",
              "      <td>13.33</td>\n",
              "      <td>0.041406</td>\n",
              "    </tr>\n",
              "    <tr>\n",
              "      <th>3</th>\n",
              "      <td>PS3</td>\n",
              "      <td>2013.0</td>\n",
              "      <td>117.42</td>\n",
              "      <td>2014.0</td>\n",
              "      <td>50.97</td>\n",
              "      <td>-0.565917</td>\n",
              "    </tr>\n",
              "    <tr>\n",
              "      <th>4</th>\n",
              "      <td>PS4</td>\n",
              "      <td>2013.0</td>\n",
              "      <td>24.76</td>\n",
              "      <td>2014.0</td>\n",
              "      <td>98.83</td>\n",
              "      <td>2.991519</td>\n",
              "    </tr>\n",
              "    <tr>\n",
              "      <th>5</th>\n",
              "      <td>PSP</td>\n",
              "      <td>2013.0</td>\n",
              "      <td>3.19</td>\n",
              "      <td>2014.0</td>\n",
              "      <td>0.24</td>\n",
              "      <td>-0.924765</td>\n",
              "    </tr>\n",
              "    <tr>\n",
              "      <th>6</th>\n",
              "      <td>PSV</td>\n",
              "      <td>2013.0</td>\n",
              "      <td>12.63</td>\n",
              "      <td>2014.0</td>\n",
              "      <td>14.75</td>\n",
              "      <td>0.167854</td>\n",
              "    </tr>\n",
              "    <tr>\n",
              "      <th>7</th>\n",
              "      <td>Wii</td>\n",
              "      <td>2013.0</td>\n",
              "      <td>9.38</td>\n",
              "      <td>2014.0</td>\n",
              "      <td>4.43</td>\n",
              "      <td>-0.527719</td>\n",
              "    </tr>\n",
              "    <tr>\n",
              "      <th>8</th>\n",
              "      <td>WiiU</td>\n",
              "      <td>2013.0</td>\n",
              "      <td>21.81</td>\n",
              "      <td>2014.0</td>\n",
              "      <td>22.54</td>\n",
              "      <td>0.033471</td>\n",
              "    </tr>\n",
              "    <tr>\n",
              "      <th>9</th>\n",
              "      <td>X360</td>\n",
              "      <td>2013.0</td>\n",
              "      <td>89.56</td>\n",
              "      <td>2014.0</td>\n",
              "      <td>36.43</td>\n",
              "      <td>-0.593234</td>\n",
              "    </tr>\n",
              "    <tr>\n",
              "      <th>10</th>\n",
              "      <td>XOne</td>\n",
              "      <td>2013.0</td>\n",
              "      <td>18.61</td>\n",
              "      <td>2014.0</td>\n",
              "      <td>52.44</td>\n",
              "      <td>1.817840</td>\n",
              "    </tr>\n",
              "  </tbody>\n",
              "</table>\n",
              "</div>"
            ],
            "text/plain": [
              "   Platform  Year_x  ...  Global_Sales_Volume_y       YOY\n",
              "0       3DS  2013.0  ...                  43.12 -0.228070\n",
              "1        DS  2013.0  ...                   0.02 -0.989796\n",
              "2        PC  2013.0  ...                  13.33  0.041406\n",
              "3       PS3  2013.0  ...                  50.97 -0.565917\n",
              "4       PS4  2013.0  ...                  98.83  2.991519\n",
              "5       PSP  2013.0  ...                   0.24 -0.924765\n",
              "6       PSV  2013.0  ...                  14.75  0.167854\n",
              "7       Wii  2013.0  ...                   4.43 -0.527719\n",
              "8      WiiU  2013.0  ...                  22.54  0.033471\n",
              "9      X360  2013.0  ...                  36.43 -0.593234\n",
              "10     XOne  2013.0  ...                  52.44  1.817840\n",
              "\n",
              "[11 rows x 6 columns]"
            ]
          },
          "metadata": {
            "tags": []
          },
          "execution_count": 16
        }
      ]
    },
    {
      "cell_type": "markdown",
      "metadata": {
        "id": "9bHdkYz6NPOi"
      },
      "source": [
        "#### 13.0 What is the ratio of total sales of Activision in JP to that of EU?"
      ]
    },
    {
      "cell_type": "code",
      "metadata": {
        "colab": {
          "base_uri": "https://localhost:8080/",
          "height": 165
        },
        "id": "wzMrayHJNauo",
        "outputId": "48123b6b-8b2a-4ac3-e26d-a2c1e1915259"
      },
      "source": [
        "df_videogames[df_videogames['Publisher']=='Activision'].groupby('Publisher')[('JP_Sales_Volume', 'EU_Sales_Volume')].sum()"
      ],
      "execution_count": 17,
      "outputs": [
        {
          "output_type": "stream",
          "text": [
            "/usr/local/lib/python3.7/dist-packages/ipykernel_launcher.py:1: FutureWarning: Indexing with multiple keys (implicitly converted to a tuple of keys) will be deprecated, use a list instead.\n",
            "  \"\"\"Entry point for launching an IPython kernel.\n"
          ],
          "name": "stderr"
        },
        {
          "output_type": "execute_result",
          "data": {
            "text/html": [
              "<div>\n",
              "<style scoped>\n",
              "    .dataframe tbody tr th:only-of-type {\n",
              "        vertical-align: middle;\n",
              "    }\n",
              "\n",
              "    .dataframe tbody tr th {\n",
              "        vertical-align: top;\n",
              "    }\n",
              "\n",
              "    .dataframe thead th {\n",
              "        text-align: right;\n",
              "    }\n",
              "</style>\n",
              "<table border=\"1\" class=\"dataframe\">\n",
              "  <thead>\n",
              "    <tr style=\"text-align: right;\">\n",
              "      <th></th>\n",
              "      <th>JP_Sales_Volume</th>\n",
              "      <th>EU_Sales_Volume</th>\n",
              "    </tr>\n",
              "    <tr>\n",
              "      <th>Publisher</th>\n",
              "      <th></th>\n",
              "      <th></th>\n",
              "    </tr>\n",
              "  </thead>\n",
              "  <tbody>\n",
              "    <tr>\n",
              "      <th>Activision</th>\n",
              "      <td>6.54</td>\n",
              "      <td>215.53</td>\n",
              "    </tr>\n",
              "  </tbody>\n",
              "</table>\n",
              "</div>"
            ],
            "text/plain": [
              "            JP_Sales_Volume  EU_Sales_Volume\n",
              "Publisher                                   \n",
              "Activision             6.54           215.53"
            ]
          },
          "metadata": {
            "tags": []
          },
          "execution_count": 17
        }
      ]
    },
    {
      "cell_type": "code",
      "metadata": {
        "colab": {
          "base_uri": "https://localhost:8080/"
        },
        "id": "t60aVpcQOmle",
        "outputId": "6d305803-14c0-4805-c85d-330165863172"
      },
      "source": [
        "activision_JP_EU_ratio = df_videogames[df_videogames['Publisher']=='Activision'].groupby('Publisher')[('JP_Sales_Volume')].sum()/df_videogames[df_videogames['Publisher']=='Activision'].groupby('Publisher')[( 'EU_Sales_Volume')].sum()\n",
        "activision_JP_EU_ratio"
      ],
      "execution_count": 18,
      "outputs": [
        {
          "output_type": "execute_result",
          "data": {
            "text/plain": [
              "Publisher\n",
              "Activision    0.030344\n",
              "dtype: float64"
            ]
          },
          "metadata": {
            "tags": []
          },
          "execution_count": 18
        }
      ]
    },
    {
      "cell_type": "code",
      "metadata": {
        "colab": {
          "base_uri": "https://localhost:8080/"
        },
        "id": "YXUBwwlX_xTw",
        "outputId": "3e9ff25b-048f-402a-9ca2-b627096ee9d1"
      },
      "source": [
        "df_videogames[(df_videogames['Year']== 2013) | (df_videogames['Year']== 2014)].groupby(['Platform', 'Year'])['Global_Sales_Volume'].sum()"
      ],
      "execution_count": null,
      "outputs": [
        {
          "output_type": "execute_result",
          "data": {
            "text/plain": [
              "Platform  Year  \n",
              "3DS       2013.0     55.86\n",
              "          2014.0     43.12\n",
              "DS        2013.0      1.96\n",
              "          2014.0      0.02\n",
              "PC        2013.0     12.80\n",
              "          2014.0     13.33\n",
              "PS3       2013.0    117.42\n",
              "          2014.0     50.97\n",
              "PS4       2013.0     24.76\n",
              "          2014.0     98.83\n",
              "PSP       2013.0      3.19\n",
              "          2014.0      0.24\n",
              "PSV       2013.0     12.63\n",
              "          2014.0     14.75\n",
              "Wii       2013.0      9.38\n",
              "          2014.0      4.43\n",
              "WiiU      2013.0     21.81\n",
              "          2014.0     22.54\n",
              "X360      2013.0     89.56\n",
              "          2014.0     36.43\n",
              "XOne      2013.0     18.61\n",
              "          2014.0     52.44\n",
              "Name: Global_Sales_Volume, dtype: float64"
            ]
          },
          "metadata": {
            "tags": []
          },
          "execution_count": 144
        }
      ]
    },
    {
      "cell_type": "code",
      "metadata": {
        "colab": {
          "base_uri": "https://localhost:8080/",
          "height": 623
        },
        "id": "ITgLtMIiIBoU",
        "outputId": "87cbe230-d20e-46d9-b899-2e34cdff8f4d"
      },
      "source": [
        "df_videogames[df_videogames['Year']== 2014]"
      ],
      "execution_count": null,
      "outputs": [
        {
          "output_type": "execute_result",
          "data": {
            "text/html": [
              "<div>\n",
              "<style scoped>\n",
              "    .dataframe tbody tr th:only-of-type {\n",
              "        vertical-align: middle;\n",
              "    }\n",
              "\n",
              "    .dataframe tbody tr th {\n",
              "        vertical-align: top;\n",
              "    }\n",
              "\n",
              "    .dataframe thead th {\n",
              "        text-align: right;\n",
              "    }\n",
              "</style>\n",
              "<table border=\"1\" class=\"dataframe\">\n",
              "  <thead>\n",
              "    <tr style=\"text-align: right;\">\n",
              "      <th></th>\n",
              "      <th>Rank</th>\n",
              "      <th>Name</th>\n",
              "      <th>Platform</th>\n",
              "      <th>Year</th>\n",
              "      <th>Genre</th>\n",
              "      <th>Publisher</th>\n",
              "      <th>NA_Sales_Volume</th>\n",
              "      <th>EU_Sales_Volume</th>\n",
              "      <th>JP_Sales_Volume</th>\n",
              "      <th>Other_Sales_Volume</th>\n",
              "      <th>Global_Sales_Volume</th>\n",
              "    </tr>\n",
              "  </thead>\n",
              "  <tbody>\n",
              "    <tr>\n",
              "      <th>44</th>\n",
              "      <td>45</td>\n",
              "      <td>Grand Theft Auto V</td>\n",
              "      <td>PS4</td>\n",
              "      <td>2014.0</td>\n",
              "      <td>Action</td>\n",
              "      <td>Take-Two Interactive</td>\n",
              "      <td>3.80</td>\n",
              "      <td>5.81</td>\n",
              "      <td>0.36</td>\n",
              "      <td>2.02</td>\n",
              "      <td>11.99</td>\n",
              "    </tr>\n",
              "    <tr>\n",
              "      <th>49</th>\n",
              "      <td>50</td>\n",
              "      <td>Pokemon Omega Ruby/Pokemon Alpha Sapphire</td>\n",
              "      <td>3DS</td>\n",
              "      <td>2014.0</td>\n",
              "      <td>Role-Playing</td>\n",
              "      <td>Nintendo</td>\n",
              "      <td>4.23</td>\n",
              "      <td>3.37</td>\n",
              "      <td>3.08</td>\n",
              "      <td>0.65</td>\n",
              "      <td>11.33</td>\n",
              "    </tr>\n",
              "    <tr>\n",
              "      <th>93</th>\n",
              "      <td>94</td>\n",
              "      <td>Call of Duty: Advanced Warfare</td>\n",
              "      <td>PS4</td>\n",
              "      <td>2014.0</td>\n",
              "      <td>Shooter</td>\n",
              "      <td>Activision</td>\n",
              "      <td>2.80</td>\n",
              "      <td>3.30</td>\n",
              "      <td>0.14</td>\n",
              "      <td>1.37</td>\n",
              "      <td>7.61</td>\n",
              "    </tr>\n",
              "    <tr>\n",
              "      <th>97</th>\n",
              "      <td>98</td>\n",
              "      <td>Super Smash Bros. for Wii U and 3DS</td>\n",
              "      <td>3DS</td>\n",
              "      <td>2014.0</td>\n",
              "      <td>Fighting</td>\n",
              "      <td>Nintendo</td>\n",
              "      <td>3.24</td>\n",
              "      <td>1.35</td>\n",
              "      <td>2.42</td>\n",
              "      <td>0.43</td>\n",
              "      <td>7.44</td>\n",
              "    </tr>\n",
              "    <tr>\n",
              "      <th>108</th>\n",
              "      <td>109</td>\n",
              "      <td>Mario Kart 8</td>\n",
              "      <td>WiiU</td>\n",
              "      <td>2014.0</td>\n",
              "      <td>Racing</td>\n",
              "      <td>Nintendo</td>\n",
              "      <td>3.13</td>\n",
              "      <td>2.07</td>\n",
              "      <td>1.27</td>\n",
              "      <td>0.49</td>\n",
              "      <td>6.96</td>\n",
              "    </tr>\n",
              "    <tr>\n",
              "      <th>...</th>\n",
              "      <td>...</td>\n",
              "      <td>...</td>\n",
              "      <td>...</td>\n",
              "      <td>...</td>\n",
              "      <td>...</td>\n",
              "      <td>...</td>\n",
              "      <td>...</td>\n",
              "      <td>...</td>\n",
              "      <td>...</td>\n",
              "      <td>...</td>\n",
              "      <td>...</td>\n",
              "    </tr>\n",
              "    <tr>\n",
              "      <th>16519</th>\n",
              "      <td>16522</td>\n",
              "      <td>Bakumatsu Rock: Ultra Soul</td>\n",
              "      <td>PSP</td>\n",
              "      <td>2014.0</td>\n",
              "      <td>Misc</td>\n",
              "      <td>Marvelous Interactive</td>\n",
              "      <td>0.00</td>\n",
              "      <td>0.00</td>\n",
              "      <td>0.01</td>\n",
              "      <td>0.00</td>\n",
              "      <td>0.01</td>\n",
              "    </tr>\n",
              "    <tr>\n",
              "      <th>16553</th>\n",
              "      <td>16556</td>\n",
              "      <td>Bound By Flame</td>\n",
              "      <td>X360</td>\n",
              "      <td>2014.0</td>\n",
              "      <td>Role-Playing</td>\n",
              "      <td>NaN</td>\n",
              "      <td>0.00</td>\n",
              "      <td>0.01</td>\n",
              "      <td>0.00</td>\n",
              "      <td>0.00</td>\n",
              "      <td>0.01</td>\n",
              "    </tr>\n",
              "    <tr>\n",
              "      <th>16557</th>\n",
              "      <td>16560</td>\n",
              "      <td>Dramatical Murder Re:code</td>\n",
              "      <td>PSV</td>\n",
              "      <td>2014.0</td>\n",
              "      <td>Adventure</td>\n",
              "      <td>Nitroplus</td>\n",
              "      <td>0.00</td>\n",
              "      <td>0.00</td>\n",
              "      <td>0.01</td>\n",
              "      <td>0.00</td>\n",
              "      <td>0.01</td>\n",
              "    </tr>\n",
              "    <tr>\n",
              "      <th>16560</th>\n",
              "      <td>16563</td>\n",
              "      <td>Hanasaku Manimani</td>\n",
              "      <td>PSV</td>\n",
              "      <td>2014.0</td>\n",
              "      <td>Adventure</td>\n",
              "      <td>5pb</td>\n",
              "      <td>0.00</td>\n",
              "      <td>0.00</td>\n",
              "      <td>0.01</td>\n",
              "      <td>0.00</td>\n",
              "      <td>0.01</td>\n",
              "    </tr>\n",
              "    <tr>\n",
              "      <th>16567</th>\n",
              "      <td>16570</td>\n",
              "      <td>Fujiko F. Fujio Characters: Great Assembly! Sl...</td>\n",
              "      <td>3DS</td>\n",
              "      <td>2014.0</td>\n",
              "      <td>Action</td>\n",
              "      <td>Namco Bandai Games</td>\n",
              "      <td>0.00</td>\n",
              "      <td>0.00</td>\n",
              "      <td>0.01</td>\n",
              "      <td>0.00</td>\n",
              "      <td>0.01</td>\n",
              "    </tr>\n",
              "  </tbody>\n",
              "</table>\n",
              "<p>582 rows × 11 columns</p>\n",
              "</div>"
            ],
            "text/plain": [
              "        Rank                                               Name Platform    Year         Genre              Publisher  NA_Sales_Volume  EU_Sales_Volume  JP_Sales_Volume  Other_Sales_Volume  Global_Sales_Volume\n",
              "44        45                                 Grand Theft Auto V      PS4  2014.0        Action   Take-Two Interactive             3.80             5.81             0.36                2.02                11.99\n",
              "49        50          Pokemon Omega Ruby/Pokemon Alpha Sapphire      3DS  2014.0  Role-Playing               Nintendo             4.23             3.37             3.08                0.65                11.33\n",
              "93        94                     Call of Duty: Advanced Warfare      PS4  2014.0       Shooter             Activision             2.80             3.30             0.14                1.37                 7.61\n",
              "97        98                Super Smash Bros. for Wii U and 3DS      3DS  2014.0      Fighting               Nintendo             3.24             1.35             2.42                0.43                 7.44\n",
              "108      109                                       Mario Kart 8     WiiU  2014.0        Racing               Nintendo             3.13             2.07             1.27                0.49                 6.96\n",
              "...      ...                                                ...      ...     ...           ...                    ...              ...              ...              ...                 ...                  ...\n",
              "16519  16522                         Bakumatsu Rock: Ultra Soul      PSP  2014.0          Misc  Marvelous Interactive             0.00             0.00             0.01                0.00                 0.01\n",
              "16553  16556                                     Bound By Flame     X360  2014.0  Role-Playing                    NaN             0.00             0.01             0.00                0.00                 0.01\n",
              "16557  16560                          Dramatical Murder Re:code      PSV  2014.0     Adventure              Nitroplus             0.00             0.00             0.01                0.00                 0.01\n",
              "16560  16563                                  Hanasaku Manimani      PSV  2014.0     Adventure                    5pb             0.00             0.00             0.01                0.00                 0.01\n",
              "16567  16570  Fujiko F. Fujio Characters: Great Assembly! Sl...      3DS  2014.0        Action     Namco Bandai Games             0.00             0.00             0.01                0.00                 0.01\n",
              "\n",
              "[582 rows x 11 columns]"
            ]
          },
          "metadata": {
            "tags": []
          },
          "execution_count": 142
        }
      ]
    },
    {
      "cell_type": "code",
      "metadata": {
        "colab": {
          "base_uri": "https://localhost:8080/",
          "height": 221
        },
        "id": "5q9rrtIP8NsH",
        "outputId": "a7a131be-3dbb-465e-ea14-d1f95deacf79"
      },
      "source": [
        "df_videogames.head()"
      ],
      "execution_count": null,
      "outputs": [
        {
          "output_type": "execute_result",
          "data": {
            "text/html": [
              "<div>\n",
              "<style scoped>\n",
              "    .dataframe tbody tr th:only-of-type {\n",
              "        vertical-align: middle;\n",
              "    }\n",
              "\n",
              "    .dataframe tbody tr th {\n",
              "        vertical-align: top;\n",
              "    }\n",
              "\n",
              "    .dataframe thead th {\n",
              "        text-align: right;\n",
              "    }\n",
              "</style>\n",
              "<table border=\"1\" class=\"dataframe\">\n",
              "  <thead>\n",
              "    <tr style=\"text-align: right;\">\n",
              "      <th></th>\n",
              "      <th>Rank</th>\n",
              "      <th>Name</th>\n",
              "      <th>Platform</th>\n",
              "      <th>Year</th>\n",
              "      <th>Genre</th>\n",
              "      <th>Publisher</th>\n",
              "      <th>NA_Sales_Volume</th>\n",
              "      <th>EU_Sales_Volume</th>\n",
              "      <th>JP_Sales_Volume</th>\n",
              "      <th>Other_Sales_Volume</th>\n",
              "      <th>Global_Sales_Volume</th>\n",
              "    </tr>\n",
              "  </thead>\n",
              "  <tbody>\n",
              "    <tr>\n",
              "      <th>0</th>\n",
              "      <td>1</td>\n",
              "      <td>Wii Sports</td>\n",
              "      <td>Wii</td>\n",
              "      <td>2006.0</td>\n",
              "      <td>Sports</td>\n",
              "      <td>Nintendo</td>\n",
              "      <td>41.49</td>\n",
              "      <td>29.02</td>\n",
              "      <td>3.77</td>\n",
              "      <td>8.46</td>\n",
              "      <td>82.74</td>\n",
              "    </tr>\n",
              "    <tr>\n",
              "      <th>1</th>\n",
              "      <td>2</td>\n",
              "      <td>Super Mario Bros.</td>\n",
              "      <td>NES</td>\n",
              "      <td>1985.0</td>\n",
              "      <td>Platform</td>\n",
              "      <td>Nintendo</td>\n",
              "      <td>29.08</td>\n",
              "      <td>3.58</td>\n",
              "      <td>6.81</td>\n",
              "      <td>0.77</td>\n",
              "      <td>40.24</td>\n",
              "    </tr>\n",
              "    <tr>\n",
              "      <th>2</th>\n",
              "      <td>3</td>\n",
              "      <td>Mario Kart Wii</td>\n",
              "      <td>Wii</td>\n",
              "      <td>2008.0</td>\n",
              "      <td>Racing</td>\n",
              "      <td>Nintendo</td>\n",
              "      <td>15.85</td>\n",
              "      <td>12.88</td>\n",
              "      <td>3.79</td>\n",
              "      <td>3.31</td>\n",
              "      <td>35.83</td>\n",
              "    </tr>\n",
              "    <tr>\n",
              "      <th>3</th>\n",
              "      <td>4</td>\n",
              "      <td>Wii Sports Resort</td>\n",
              "      <td>Wii</td>\n",
              "      <td>2009.0</td>\n",
              "      <td>Sports</td>\n",
              "      <td>Nintendo</td>\n",
              "      <td>15.75</td>\n",
              "      <td>11.01</td>\n",
              "      <td>3.28</td>\n",
              "      <td>2.96</td>\n",
              "      <td>33.00</td>\n",
              "    </tr>\n",
              "    <tr>\n",
              "      <th>4</th>\n",
              "      <td>5</td>\n",
              "      <td>Pokemon Red/Pokemon Blue</td>\n",
              "      <td>GB</td>\n",
              "      <td>1996.0</td>\n",
              "      <td>Role-Playing</td>\n",
              "      <td>Nintendo</td>\n",
              "      <td>11.27</td>\n",
              "      <td>8.89</td>\n",
              "      <td>10.22</td>\n",
              "      <td>1.00</td>\n",
              "      <td>31.38</td>\n",
              "    </tr>\n",
              "  </tbody>\n",
              "</table>\n",
              "</div>"
            ],
            "text/plain": [
              "   Rank                      Name Platform    Year         Genre Publisher  NA_Sales_Volume  EU_Sales_Volume  JP_Sales_Volume  Other_Sales_Volume  Global_Sales_Volume\n",
              "0     1                Wii Sports      Wii  2006.0        Sports  Nintendo            41.49            29.02             3.77                8.46                82.74\n",
              "1     2         Super Mario Bros.      NES  1985.0      Platform  Nintendo            29.08             3.58             6.81                0.77                40.24\n",
              "2     3            Mario Kart Wii      Wii  2008.0        Racing  Nintendo            15.85            12.88             3.79                3.31                35.83\n",
              "3     4         Wii Sports Resort      Wii  2009.0        Sports  Nintendo            15.75            11.01             3.28                2.96                33.00\n",
              "4     5  Pokemon Red/Pokemon Blue       GB  1996.0  Role-Playing  Nintendo            11.27             8.89            10.22                1.00                31.38"
            ]
          },
          "metadata": {
            "tags": []
          },
          "execution_count": 139
        }
      ]
    },
    {
      "cell_type": "markdown",
      "metadata": {
        "id": "3m1QfLjTaYVv"
      },
      "source": [
        "#### 21. PlayStation (PS, PS2, PS3, PS4, PSP, and PSV) and XBOX (XB, X360, and XOne) are competitor console platforms from Sony, a Japanese (JP) company, and Microsoft, an American (NA) company respectively. Based on this information, can we check that Playstation (PS, PS2, PS3, PS4, PSP, and PSV) has more game sales in the JP region than XBOX (XB, X360, and XOne)? Likewise, check if XBOX has more game sales in the NA region than Playstation?"
      ]
    },
    {
      "cell_type": "code",
      "metadata": {
        "colab": {
          "base_uri": "https://localhost:8080/"
        },
        "id": "snniVEExadmM",
        "outputId": "de06b88a-fbbf-41f7-dfb8-80666f5ab692"
      },
      "source": [
        "PS_sales_JP = df_videogames[df_videogames.Name.str.contains('PS')]['JP_Sales_Volume'].sum()\n",
        "PS_sales_NA = df_videogames[df_videogames.Name.str.contains('PS')]['NA_Sales_Volume'].sum()\n",
        "print('PS Comparison: JP sales ',  PS_sales_JP, ' NA Sales', PS_sales_NA)"
      ],
      "execution_count": 20,
      "outputs": [
        {
          "output_type": "stream",
          "text": [
            "PS Comparison: JP sales  0.45  NA Sales 5.3\n"
          ],
          "name": "stdout"
        }
      ]
    },
    {
      "cell_type": "code",
      "metadata": {
        "colab": {
          "base_uri": "https://localhost:8080/"
        },
        "id": "g2rCrpkwb9qx",
        "outputId": "7fc52ded-8910-4b5e-d614-5030e7369304"
      },
      "source": [
        "PS_sales_JP = df_videogames[df_videogames.Name.str.contains('X')]['JP_Sales_Volume'].sum()\n",
        "PS_sales_NA = df_videogames[df_videogames.Name.str.contains('X')]['NA_Sales_Volume'].sum()\n",
        "print('XBOX Comparison: JP sales ',  PS_sales_JP, ' NA Sales', PS_sales_NA)"
      ],
      "execution_count": 21,
      "outputs": [
        {
          "output_type": "stream",
          "text": [
            "XBOX Comparison: JP sales  56.24  NA Sales 93.43\n"
          ],
          "name": "stdout"
        }
      ]
    },
    {
      "cell_type": "markdown",
      "metadata": {
        "id": "oRZrJ9-pM5ea"
      },
      "source": [
        "###Dataset 2. market_data.csv\n",
        "####3. How many customers were attracted from Spain (SP) in at least 5 of the campaigns?\n",
        "\n",
        "Note: Also, include the \"Response\" column too as it is also a campaign.\n",
        "\n",
        "For example, AcceptedCmp1 stands for Campaign 1. Consider the columns that start with \"AcceptedCmp\". So in all, there are 6 campaigns.\n",
        "\n",
        "The dataset can be imported as pandas dataframe using the following link: https://raw.githubusercontent.com/insaid2018/INSAID-Activities/main/Data%20Detective%20Challenge/market_data.csv"
      ]
    },
    {
      "cell_type": "code",
      "metadata": {
        "colab": {
          "base_uri": "https://localhost:8080/",
          "height": 224
        },
        "id": "wDdb9kEyM7jT",
        "outputId": "a12afc43-0b97-4224-84dd-ae3cc43aa139"
      },
      "source": [
        "df_market = pd.read_csv('https://raw.githubusercontent.com/insaid2018/INSAID-Activities/main/Data%20Detective%20Challenge/market_data.csv')\n",
        "df_market.head()"
      ],
      "execution_count": 22,
      "outputs": [
        {
          "output_type": "execute_result",
          "data": {
            "text/html": [
              "<div>\n",
              "<style scoped>\n",
              "    .dataframe tbody tr th:only-of-type {\n",
              "        vertical-align: middle;\n",
              "    }\n",
              "\n",
              "    .dataframe tbody tr th {\n",
              "        vertical-align: top;\n",
              "    }\n",
              "\n",
              "    .dataframe thead th {\n",
              "        text-align: right;\n",
              "    }\n",
              "</style>\n",
              "<table border=\"1\" class=\"dataframe\">\n",
              "  <thead>\n",
              "    <tr style=\"text-align: right;\">\n",
              "      <th></th>\n",
              "      <th>ID</th>\n",
              "      <th>Year_Birth</th>\n",
              "      <th>Education</th>\n",
              "      <th>Marital_Status</th>\n",
              "      <th>Income</th>\n",
              "      <th>Kidhome</th>\n",
              "      <th>Teenhome</th>\n",
              "      <th>Dt_Customer</th>\n",
              "      <th>Recency</th>\n",
              "      <th>MntWines</th>\n",
              "      <th>MntFruits</th>\n",
              "      <th>MntMeatProducts</th>\n",
              "      <th>MntFishProducts</th>\n",
              "      <th>MntSweetProducts</th>\n",
              "      <th>MntGoldProds</th>\n",
              "      <th>NumDealsPurchases</th>\n",
              "      <th>NumWebPurchases</th>\n",
              "      <th>NumCatalogPurchases</th>\n",
              "      <th>NumStorePurchases</th>\n",
              "      <th>NumWebVisitsMonth</th>\n",
              "      <th>AcceptedCmp3</th>\n",
              "      <th>AcceptedCmp4</th>\n",
              "      <th>AcceptedCmp5</th>\n",
              "      <th>AcceptedCmp1</th>\n",
              "      <th>AcceptedCmp2</th>\n",
              "      <th>Response</th>\n",
              "      <th>Complain</th>\n",
              "      <th>Country</th>\n",
              "    </tr>\n",
              "  </thead>\n",
              "  <tbody>\n",
              "    <tr>\n",
              "      <th>0</th>\n",
              "      <td>1826</td>\n",
              "      <td>1970</td>\n",
              "      <td>Graduation</td>\n",
              "      <td>Divorced</td>\n",
              "      <td>$84,835.00</td>\n",
              "      <td>0</td>\n",
              "      <td>0</td>\n",
              "      <td>6/16/14</td>\n",
              "      <td>0</td>\n",
              "      <td>189</td>\n",
              "      <td>104</td>\n",
              "      <td>379</td>\n",
              "      <td>111</td>\n",
              "      <td>189</td>\n",
              "      <td>218</td>\n",
              "      <td>1</td>\n",
              "      <td>4</td>\n",
              "      <td>4</td>\n",
              "      <td>6</td>\n",
              "      <td>1</td>\n",
              "      <td>0</td>\n",
              "      <td>0</td>\n",
              "      <td>0</td>\n",
              "      <td>0</td>\n",
              "      <td>0</td>\n",
              "      <td>1</td>\n",
              "      <td>0</td>\n",
              "      <td>SP</td>\n",
              "    </tr>\n",
              "    <tr>\n",
              "      <th>1</th>\n",
              "      <td>1</td>\n",
              "      <td>1961</td>\n",
              "      <td>Graduation</td>\n",
              "      <td>Single</td>\n",
              "      <td>$57,091.00</td>\n",
              "      <td>0</td>\n",
              "      <td>0</td>\n",
              "      <td>6/15/14</td>\n",
              "      <td>0</td>\n",
              "      <td>464</td>\n",
              "      <td>5</td>\n",
              "      <td>64</td>\n",
              "      <td>7</td>\n",
              "      <td>0</td>\n",
              "      <td>37</td>\n",
              "      <td>1</td>\n",
              "      <td>7</td>\n",
              "      <td>3</td>\n",
              "      <td>7</td>\n",
              "      <td>5</td>\n",
              "      <td>0</td>\n",
              "      <td>0</td>\n",
              "      <td>0</td>\n",
              "      <td>0</td>\n",
              "      <td>1</td>\n",
              "      <td>1</td>\n",
              "      <td>0</td>\n",
              "      <td>CA</td>\n",
              "    </tr>\n",
              "    <tr>\n",
              "      <th>2</th>\n",
              "      <td>10476</td>\n",
              "      <td>1958</td>\n",
              "      <td>Graduation</td>\n",
              "      <td>Married</td>\n",
              "      <td>$67,267.00</td>\n",
              "      <td>0</td>\n",
              "      <td>1</td>\n",
              "      <td>5/13/14</td>\n",
              "      <td>0</td>\n",
              "      <td>134</td>\n",
              "      <td>11</td>\n",
              "      <td>59</td>\n",
              "      <td>15</td>\n",
              "      <td>2</td>\n",
              "      <td>30</td>\n",
              "      <td>1</td>\n",
              "      <td>3</td>\n",
              "      <td>2</td>\n",
              "      <td>5</td>\n",
              "      <td>2</td>\n",
              "      <td>0</td>\n",
              "      <td>0</td>\n",
              "      <td>0</td>\n",
              "      <td>0</td>\n",
              "      <td>0</td>\n",
              "      <td>0</td>\n",
              "      <td>0</td>\n",
              "      <td>US</td>\n",
              "    </tr>\n",
              "    <tr>\n",
              "      <th>3</th>\n",
              "      <td>1386</td>\n",
              "      <td>1967</td>\n",
              "      <td>Graduation</td>\n",
              "      <td>Together</td>\n",
              "      <td>$32,474.00</td>\n",
              "      <td>1</td>\n",
              "      <td>1</td>\n",
              "      <td>5/11/14</td>\n",
              "      <td>0</td>\n",
              "      <td>10</td>\n",
              "      <td>0</td>\n",
              "      <td>1</td>\n",
              "      <td>0</td>\n",
              "      <td>0</td>\n",
              "      <td>0</td>\n",
              "      <td>1</td>\n",
              "      <td>1</td>\n",
              "      <td>0</td>\n",
              "      <td>2</td>\n",
              "      <td>7</td>\n",
              "      <td>0</td>\n",
              "      <td>0</td>\n",
              "      <td>0</td>\n",
              "      <td>0</td>\n",
              "      <td>0</td>\n",
              "      <td>0</td>\n",
              "      <td>0</td>\n",
              "      <td>AUS</td>\n",
              "    </tr>\n",
              "    <tr>\n",
              "      <th>4</th>\n",
              "      <td>5371</td>\n",
              "      <td>1989</td>\n",
              "      <td>Graduation</td>\n",
              "      <td>Single</td>\n",
              "      <td>$21,474.00</td>\n",
              "      <td>1</td>\n",
              "      <td>0</td>\n",
              "      <td>4/8/14</td>\n",
              "      <td>0</td>\n",
              "      <td>6</td>\n",
              "      <td>16</td>\n",
              "      <td>24</td>\n",
              "      <td>11</td>\n",
              "      <td>0</td>\n",
              "      <td>34</td>\n",
              "      <td>2</td>\n",
              "      <td>3</td>\n",
              "      <td>1</td>\n",
              "      <td>2</td>\n",
              "      <td>7</td>\n",
              "      <td>1</td>\n",
              "      <td>0</td>\n",
              "      <td>0</td>\n",
              "      <td>0</td>\n",
              "      <td>0</td>\n",
              "      <td>1</td>\n",
              "      <td>0</td>\n",
              "      <td>SP</td>\n",
              "    </tr>\n",
              "  </tbody>\n",
              "</table>\n",
              "</div>"
            ],
            "text/plain": [
              "      ID  Year_Birth   Education  ... Response Complain  Country\n",
              "0   1826        1970  Graduation  ...        1        0       SP\n",
              "1      1        1961  Graduation  ...        1        0       CA\n",
              "2  10476        1958  Graduation  ...        0        0       US\n",
              "3   1386        1967  Graduation  ...        0        0      AUS\n",
              "4   5371        1989  Graduation  ...        1        0       SP\n",
              "\n",
              "[5 rows x 28 columns]"
            ]
          },
          "metadata": {
            "tags": []
          },
          "execution_count": 22
        }
      ]
    },
    {
      "cell_type": "code",
      "metadata": {
        "colab": {
          "base_uri": "https://localhost:8080/",
          "height": 69
        },
        "id": "cFglHzu7NXqg",
        "outputId": "84c823e7-62ee-41dc-911d-87012775aa98"
      },
      "source": [
        "df_market[(df_market['Country']=='SP') & (df_market['AcceptedCmp1']==1) & (df_market['AcceptedCmp2']==1) & (df_market['AcceptedCmp3']==1) & (df_market['AcceptedCmp4']==1)]"
      ],
      "execution_count": 23,
      "outputs": [
        {
          "output_type": "execute_result",
          "data": {
            "text/html": [
              "<div>\n",
              "<style scoped>\n",
              "    .dataframe tbody tr th:only-of-type {\n",
              "        vertical-align: middle;\n",
              "    }\n",
              "\n",
              "    .dataframe tbody tr th {\n",
              "        vertical-align: top;\n",
              "    }\n",
              "\n",
              "    .dataframe thead th {\n",
              "        text-align: right;\n",
              "    }\n",
              "</style>\n",
              "<table border=\"1\" class=\"dataframe\">\n",
              "  <thead>\n",
              "    <tr style=\"text-align: right;\">\n",
              "      <th></th>\n",
              "      <th>ID</th>\n",
              "      <th>Year_Birth</th>\n",
              "      <th>Education</th>\n",
              "      <th>Marital_Status</th>\n",
              "      <th>Income</th>\n",
              "      <th>Kidhome</th>\n",
              "      <th>Teenhome</th>\n",
              "      <th>Dt_Customer</th>\n",
              "      <th>Recency</th>\n",
              "      <th>MntWines</th>\n",
              "      <th>MntFruits</th>\n",
              "      <th>MntMeatProducts</th>\n",
              "      <th>MntFishProducts</th>\n",
              "      <th>MntSweetProducts</th>\n",
              "      <th>MntGoldProds</th>\n",
              "      <th>NumDealsPurchases</th>\n",
              "      <th>NumWebPurchases</th>\n",
              "      <th>NumCatalogPurchases</th>\n",
              "      <th>NumStorePurchases</th>\n",
              "      <th>NumWebVisitsMonth</th>\n",
              "      <th>AcceptedCmp3</th>\n",
              "      <th>AcceptedCmp4</th>\n",
              "      <th>AcceptedCmp5</th>\n",
              "      <th>AcceptedCmp1</th>\n",
              "      <th>AcceptedCmp2</th>\n",
              "      <th>Response</th>\n",
              "      <th>Complain</th>\n",
              "      <th>Country</th>\n",
              "    </tr>\n",
              "  </thead>\n",
              "  <tbody>\n",
              "  </tbody>\n",
              "</table>\n",
              "</div>"
            ],
            "text/plain": [
              "Empty DataFrame\n",
              "Columns: [ID, Year_Birth, Education, Marital_Status, Income, Kidhome, Teenhome, Dt_Customer, Recency, MntWines, MntFruits, MntMeatProducts, MntFishProducts, MntSweetProducts, MntGoldProds, NumDealsPurchases, NumWebPurchases, NumCatalogPurchases, NumStorePurchases, NumWebVisitsMonth, AcceptedCmp3, AcceptedCmp4, AcceptedCmp5, AcceptedCmp1, AcceptedCmp2, Response, Complain, Country]\n",
              "Index: []"
            ]
          },
          "metadata": {
            "tags": []
          },
          "execution_count": 23
        }
      ]
    },
    {
      "cell_type": "markdown",
      "metadata": {
        "id": "q-YM1CR7O_Dr"
      },
      "source": [
        "#### 4. Which of the following product performed the best in terms of the average amount spent?\n",
        "\n",
        "For example, MntFishProducts denotes the amount spent on Fish products. Consider only the columns that start with \"Mnt\". "
      ]
    },
    {
      "cell_type": "code",
      "metadata": {
        "colab": {
          "base_uri": "https://localhost:8080/"
        },
        "id": "x1NxCYpOPQD7",
        "outputId": "67ed32f1-12f0-4802-8328-7cf2d7b7a3bc"
      },
      "source": [
        "dict = {}\n",
        "for i in df_market.columns:\n",
        "  if i[:3]=='Mnt':\n",
        "    print(i, df_market[i].sum())\n",
        "    dict[i]=df_market[i].sum()\n",
        "    #print (i)"
      ],
      "execution_count": 24,
      "outputs": [
        {
          "output_type": "stream",
          "text": [
            "MntWines 680816\n",
            "MntFruits 58917\n",
            "MntMeatProducts 373968\n",
            "MntFishProducts 84057\n",
            "MntSweetProducts 60621\n",
            "MntGoldProds 98609\n"
          ],
          "name": "stdout"
        }
      ]
    },
    {
      "cell_type": "code",
      "metadata": {
        "colab": {
          "base_uri": "https://localhost:8080/",
          "height": 235
        },
        "id": "PqUaq5WTUffg",
        "outputId": "fafa08c0-1bee-4d80-ea83-316dde2e8298"
      },
      "source": [
        "pd.DataFrame(data=dict, index=[1]).T"
      ],
      "execution_count": 25,
      "outputs": [
        {
          "output_type": "execute_result",
          "data": {
            "text/html": [
              "<div>\n",
              "<style scoped>\n",
              "    .dataframe tbody tr th:only-of-type {\n",
              "        vertical-align: middle;\n",
              "    }\n",
              "\n",
              "    .dataframe tbody tr th {\n",
              "        vertical-align: top;\n",
              "    }\n",
              "\n",
              "    .dataframe thead th {\n",
              "        text-align: right;\n",
              "    }\n",
              "</style>\n",
              "<table border=\"1\" class=\"dataframe\">\n",
              "  <thead>\n",
              "    <tr style=\"text-align: right;\">\n",
              "      <th></th>\n",
              "      <th>1</th>\n",
              "    </tr>\n",
              "  </thead>\n",
              "  <tbody>\n",
              "    <tr>\n",
              "      <th>MntWines</th>\n",
              "      <td>680816</td>\n",
              "    </tr>\n",
              "    <tr>\n",
              "      <th>MntFruits</th>\n",
              "      <td>58917</td>\n",
              "    </tr>\n",
              "    <tr>\n",
              "      <th>MntMeatProducts</th>\n",
              "      <td>373968</td>\n",
              "    </tr>\n",
              "    <tr>\n",
              "      <th>MntFishProducts</th>\n",
              "      <td>84057</td>\n",
              "    </tr>\n",
              "    <tr>\n",
              "      <th>MntSweetProducts</th>\n",
              "      <td>60621</td>\n",
              "    </tr>\n",
              "    <tr>\n",
              "      <th>MntGoldProds</th>\n",
              "      <td>98609</td>\n",
              "    </tr>\n",
              "  </tbody>\n",
              "</table>\n",
              "</div>"
            ],
            "text/plain": [
              "                       1\n",
              "MntWines          680816\n",
              "MntFruits          58917\n",
              "MntMeatProducts   373968\n",
              "MntFishProducts    84057\n",
              "MntSweetProducts   60621\n",
              "MntGoldProds       98609"
            ]
          },
          "metadata": {
            "tags": []
          },
          "execution_count": 25
        }
      ]
    },
    {
      "cell_type": "markdown",
      "metadata": {
        "id": "ZzU98GZBi5Sk"
      },
      "source": [
        "#### 6. What is the maximum income (in USD) of the married people from IND country having 2 children with Graduation Education born after 1975?"
      ]
    },
    {
      "cell_type": "code",
      "metadata": {
        "colab": {
          "base_uri": "https://localhost:8080/",
          "height": 224
        },
        "id": "__YEO276i9--",
        "outputId": "c20d6da5-d82e-4246-8424-15db381cf622"
      },
      "source": [
        "df_market.head()"
      ],
      "execution_count": 26,
      "outputs": [
        {
          "output_type": "execute_result",
          "data": {
            "text/html": [
              "<div>\n",
              "<style scoped>\n",
              "    .dataframe tbody tr th:only-of-type {\n",
              "        vertical-align: middle;\n",
              "    }\n",
              "\n",
              "    .dataframe tbody tr th {\n",
              "        vertical-align: top;\n",
              "    }\n",
              "\n",
              "    .dataframe thead th {\n",
              "        text-align: right;\n",
              "    }\n",
              "</style>\n",
              "<table border=\"1\" class=\"dataframe\">\n",
              "  <thead>\n",
              "    <tr style=\"text-align: right;\">\n",
              "      <th></th>\n",
              "      <th>ID</th>\n",
              "      <th>Year_Birth</th>\n",
              "      <th>Education</th>\n",
              "      <th>Marital_Status</th>\n",
              "      <th>Income</th>\n",
              "      <th>Kidhome</th>\n",
              "      <th>Teenhome</th>\n",
              "      <th>Dt_Customer</th>\n",
              "      <th>Recency</th>\n",
              "      <th>MntWines</th>\n",
              "      <th>MntFruits</th>\n",
              "      <th>MntMeatProducts</th>\n",
              "      <th>MntFishProducts</th>\n",
              "      <th>MntSweetProducts</th>\n",
              "      <th>MntGoldProds</th>\n",
              "      <th>NumDealsPurchases</th>\n",
              "      <th>NumWebPurchases</th>\n",
              "      <th>NumCatalogPurchases</th>\n",
              "      <th>NumStorePurchases</th>\n",
              "      <th>NumWebVisitsMonth</th>\n",
              "      <th>AcceptedCmp3</th>\n",
              "      <th>AcceptedCmp4</th>\n",
              "      <th>AcceptedCmp5</th>\n",
              "      <th>AcceptedCmp1</th>\n",
              "      <th>AcceptedCmp2</th>\n",
              "      <th>Response</th>\n",
              "      <th>Complain</th>\n",
              "      <th>Country</th>\n",
              "    </tr>\n",
              "  </thead>\n",
              "  <tbody>\n",
              "    <tr>\n",
              "      <th>0</th>\n",
              "      <td>1826</td>\n",
              "      <td>1970</td>\n",
              "      <td>Graduation</td>\n",
              "      <td>Divorced</td>\n",
              "      <td>$84,835.00</td>\n",
              "      <td>0</td>\n",
              "      <td>0</td>\n",
              "      <td>6/16/14</td>\n",
              "      <td>0</td>\n",
              "      <td>189</td>\n",
              "      <td>104</td>\n",
              "      <td>379</td>\n",
              "      <td>111</td>\n",
              "      <td>189</td>\n",
              "      <td>218</td>\n",
              "      <td>1</td>\n",
              "      <td>4</td>\n",
              "      <td>4</td>\n",
              "      <td>6</td>\n",
              "      <td>1</td>\n",
              "      <td>0</td>\n",
              "      <td>0</td>\n",
              "      <td>0</td>\n",
              "      <td>0</td>\n",
              "      <td>0</td>\n",
              "      <td>1</td>\n",
              "      <td>0</td>\n",
              "      <td>SP</td>\n",
              "    </tr>\n",
              "    <tr>\n",
              "      <th>1</th>\n",
              "      <td>1</td>\n",
              "      <td>1961</td>\n",
              "      <td>Graduation</td>\n",
              "      <td>Single</td>\n",
              "      <td>$57,091.00</td>\n",
              "      <td>0</td>\n",
              "      <td>0</td>\n",
              "      <td>6/15/14</td>\n",
              "      <td>0</td>\n",
              "      <td>464</td>\n",
              "      <td>5</td>\n",
              "      <td>64</td>\n",
              "      <td>7</td>\n",
              "      <td>0</td>\n",
              "      <td>37</td>\n",
              "      <td>1</td>\n",
              "      <td>7</td>\n",
              "      <td>3</td>\n",
              "      <td>7</td>\n",
              "      <td>5</td>\n",
              "      <td>0</td>\n",
              "      <td>0</td>\n",
              "      <td>0</td>\n",
              "      <td>0</td>\n",
              "      <td>1</td>\n",
              "      <td>1</td>\n",
              "      <td>0</td>\n",
              "      <td>CA</td>\n",
              "    </tr>\n",
              "    <tr>\n",
              "      <th>2</th>\n",
              "      <td>10476</td>\n",
              "      <td>1958</td>\n",
              "      <td>Graduation</td>\n",
              "      <td>Married</td>\n",
              "      <td>$67,267.00</td>\n",
              "      <td>0</td>\n",
              "      <td>1</td>\n",
              "      <td>5/13/14</td>\n",
              "      <td>0</td>\n",
              "      <td>134</td>\n",
              "      <td>11</td>\n",
              "      <td>59</td>\n",
              "      <td>15</td>\n",
              "      <td>2</td>\n",
              "      <td>30</td>\n",
              "      <td>1</td>\n",
              "      <td>3</td>\n",
              "      <td>2</td>\n",
              "      <td>5</td>\n",
              "      <td>2</td>\n",
              "      <td>0</td>\n",
              "      <td>0</td>\n",
              "      <td>0</td>\n",
              "      <td>0</td>\n",
              "      <td>0</td>\n",
              "      <td>0</td>\n",
              "      <td>0</td>\n",
              "      <td>US</td>\n",
              "    </tr>\n",
              "    <tr>\n",
              "      <th>3</th>\n",
              "      <td>1386</td>\n",
              "      <td>1967</td>\n",
              "      <td>Graduation</td>\n",
              "      <td>Together</td>\n",
              "      <td>$32,474.00</td>\n",
              "      <td>1</td>\n",
              "      <td>1</td>\n",
              "      <td>5/11/14</td>\n",
              "      <td>0</td>\n",
              "      <td>10</td>\n",
              "      <td>0</td>\n",
              "      <td>1</td>\n",
              "      <td>0</td>\n",
              "      <td>0</td>\n",
              "      <td>0</td>\n",
              "      <td>1</td>\n",
              "      <td>1</td>\n",
              "      <td>0</td>\n",
              "      <td>2</td>\n",
              "      <td>7</td>\n",
              "      <td>0</td>\n",
              "      <td>0</td>\n",
              "      <td>0</td>\n",
              "      <td>0</td>\n",
              "      <td>0</td>\n",
              "      <td>0</td>\n",
              "      <td>0</td>\n",
              "      <td>AUS</td>\n",
              "    </tr>\n",
              "    <tr>\n",
              "      <th>4</th>\n",
              "      <td>5371</td>\n",
              "      <td>1989</td>\n",
              "      <td>Graduation</td>\n",
              "      <td>Single</td>\n",
              "      <td>$21,474.00</td>\n",
              "      <td>1</td>\n",
              "      <td>0</td>\n",
              "      <td>4/8/14</td>\n",
              "      <td>0</td>\n",
              "      <td>6</td>\n",
              "      <td>16</td>\n",
              "      <td>24</td>\n",
              "      <td>11</td>\n",
              "      <td>0</td>\n",
              "      <td>34</td>\n",
              "      <td>2</td>\n",
              "      <td>3</td>\n",
              "      <td>1</td>\n",
              "      <td>2</td>\n",
              "      <td>7</td>\n",
              "      <td>1</td>\n",
              "      <td>0</td>\n",
              "      <td>0</td>\n",
              "      <td>0</td>\n",
              "      <td>0</td>\n",
              "      <td>1</td>\n",
              "      <td>0</td>\n",
              "      <td>SP</td>\n",
              "    </tr>\n",
              "  </tbody>\n",
              "</table>\n",
              "</div>"
            ],
            "text/plain": [
              "      ID  Year_Birth   Education  ... Response Complain  Country\n",
              "0   1826        1970  Graduation  ...        1        0       SP\n",
              "1      1        1961  Graduation  ...        1        0       CA\n",
              "2  10476        1958  Graduation  ...        0        0       US\n",
              "3   1386        1967  Graduation  ...        0        0      AUS\n",
              "4   5371        1989  Graduation  ...        1        0       SP\n",
              "\n",
              "[5 rows x 28 columns]"
            ]
          },
          "metadata": {
            "tags": []
          },
          "execution_count": 26
        }
      ]
    },
    {
      "cell_type": "code",
      "metadata": {
        "colab": {
          "base_uri": "https://localhost:8080/",
          "height": 35
        },
        "id": "mAJcfoxZjfTZ",
        "outputId": "b4e6e836-585f-4a5a-a105-610a33ef5c06"
      },
      "source": [
        "df_market[(df_market['Marital_Status']=='Married') & (df_market['Kidhome']==2) & (df_market['Education']=='Graduation')  & (df_market['Country']=='IND')  & (df_market['Year_Birth'] >1975)]['Income'].max()"
      ],
      "execution_count": 27,
      "outputs": [
        {
          "output_type": "execute_result",
          "data": {
            "application/vnd.google.colaboratory.intrinsic+json": {
              "type": "string"
            },
            "text/plain": [
              "'$55,357.00 '"
            ]
          },
          "metadata": {
            "tags": []
          },
          "execution_count": 27
        }
      ]
    },
    {
      "cell_type": "markdown",
      "metadata": {
        "id": "ywrjSCpxosWo"
      },
      "source": [
        "#### 8. Which country has the highest number of total purchases?"
      ]
    },
    {
      "cell_type": "code",
      "metadata": {
        "id": "Ot2QcZ0TothG"
      },
      "source": [
        "df_market['total_purchases'] = df_market['NumDealsPurchases'] + df_market['NumWebPurchases'] + df_market['NumCatalogPurchases']\t+ df_market['NumStorePurchases']"
      ],
      "execution_count": 28,
      "outputs": []
    },
    {
      "cell_type": "code",
      "metadata": {
        "colab": {
          "base_uri": "https://localhost:8080/"
        },
        "id": "hnitnfPRq56d",
        "outputId": "a8ecc8ed-f193-4423-a6e2-7e3ec112d0af"
      },
      "source": [
        "df_market.groupby('Country')['total_purchases'].sum()"
      ],
      "execution_count": 29,
      "outputs": [
        {
          "output_type": "execute_result",
          "data": {
            "text/plain": [
              "Country\n",
              "AUS     2314\n",
              "CA      4101\n",
              "GER     1788\n",
              "IND     2099\n",
              "ME        59\n",
              "SA      5117\n",
              "SP     16052\n",
              "US      1761\n",
              "Name: total_purchases, dtype: int64"
            ]
          },
          "metadata": {
            "tags": []
          },
          "execution_count": 29
        }
      ]
    },
    {
      "cell_type": "markdown",
      "metadata": {
        "id": "7prxfWyvTzvH"
      },
      "source": [
        "####17. There are rows corresponding to the \"Income\" column which have missing or null values. Which of the following technique can be used to deal with this issue?\n",
        "\n",
        "###Just question here we can have our answers based on our expertise!"
      ]
    },
    {
      "cell_type": "markdown",
      "metadata": {
        "id": "9pKVLOHGWjNk"
      },
      "source": [
        "###19 Which of the following campaign had the least success rate?\n",
        "\n",
        "For example, AcceptedCmp1 stands for Campaign 1. Consider only the columns that start with \"AcceptedCmp\". "
      ]
    },
    {
      "cell_type": "code",
      "metadata": {
        "colab": {
          "base_uri": "https://localhost:8080/",
          "height": 224
        },
        "id": "sJljf7FzWm1E",
        "outputId": "bc2e1f39-f2a5-4722-dc4a-777cb2215777"
      },
      "source": [
        "df_market.head()"
      ],
      "execution_count": 30,
      "outputs": [
        {
          "output_type": "execute_result",
          "data": {
            "text/html": [
              "<div>\n",
              "<style scoped>\n",
              "    .dataframe tbody tr th:only-of-type {\n",
              "        vertical-align: middle;\n",
              "    }\n",
              "\n",
              "    .dataframe tbody tr th {\n",
              "        vertical-align: top;\n",
              "    }\n",
              "\n",
              "    .dataframe thead th {\n",
              "        text-align: right;\n",
              "    }\n",
              "</style>\n",
              "<table border=\"1\" class=\"dataframe\">\n",
              "  <thead>\n",
              "    <tr style=\"text-align: right;\">\n",
              "      <th></th>\n",
              "      <th>ID</th>\n",
              "      <th>Year_Birth</th>\n",
              "      <th>Education</th>\n",
              "      <th>Marital_Status</th>\n",
              "      <th>Income</th>\n",
              "      <th>Kidhome</th>\n",
              "      <th>Teenhome</th>\n",
              "      <th>Dt_Customer</th>\n",
              "      <th>Recency</th>\n",
              "      <th>MntWines</th>\n",
              "      <th>MntFruits</th>\n",
              "      <th>MntMeatProducts</th>\n",
              "      <th>MntFishProducts</th>\n",
              "      <th>MntSweetProducts</th>\n",
              "      <th>MntGoldProds</th>\n",
              "      <th>NumDealsPurchases</th>\n",
              "      <th>NumWebPurchases</th>\n",
              "      <th>NumCatalogPurchases</th>\n",
              "      <th>NumStorePurchases</th>\n",
              "      <th>NumWebVisitsMonth</th>\n",
              "      <th>AcceptedCmp3</th>\n",
              "      <th>AcceptedCmp4</th>\n",
              "      <th>AcceptedCmp5</th>\n",
              "      <th>AcceptedCmp1</th>\n",
              "      <th>AcceptedCmp2</th>\n",
              "      <th>Response</th>\n",
              "      <th>Complain</th>\n",
              "      <th>Country</th>\n",
              "      <th>total_purchases</th>\n",
              "    </tr>\n",
              "  </thead>\n",
              "  <tbody>\n",
              "    <tr>\n",
              "      <th>0</th>\n",
              "      <td>1826</td>\n",
              "      <td>1970</td>\n",
              "      <td>Graduation</td>\n",
              "      <td>Divorced</td>\n",
              "      <td>$84,835.00</td>\n",
              "      <td>0</td>\n",
              "      <td>0</td>\n",
              "      <td>6/16/14</td>\n",
              "      <td>0</td>\n",
              "      <td>189</td>\n",
              "      <td>104</td>\n",
              "      <td>379</td>\n",
              "      <td>111</td>\n",
              "      <td>189</td>\n",
              "      <td>218</td>\n",
              "      <td>1</td>\n",
              "      <td>4</td>\n",
              "      <td>4</td>\n",
              "      <td>6</td>\n",
              "      <td>1</td>\n",
              "      <td>0</td>\n",
              "      <td>0</td>\n",
              "      <td>0</td>\n",
              "      <td>0</td>\n",
              "      <td>0</td>\n",
              "      <td>1</td>\n",
              "      <td>0</td>\n",
              "      <td>SP</td>\n",
              "      <td>15</td>\n",
              "    </tr>\n",
              "    <tr>\n",
              "      <th>1</th>\n",
              "      <td>1</td>\n",
              "      <td>1961</td>\n",
              "      <td>Graduation</td>\n",
              "      <td>Single</td>\n",
              "      <td>$57,091.00</td>\n",
              "      <td>0</td>\n",
              "      <td>0</td>\n",
              "      <td>6/15/14</td>\n",
              "      <td>0</td>\n",
              "      <td>464</td>\n",
              "      <td>5</td>\n",
              "      <td>64</td>\n",
              "      <td>7</td>\n",
              "      <td>0</td>\n",
              "      <td>37</td>\n",
              "      <td>1</td>\n",
              "      <td>7</td>\n",
              "      <td>3</td>\n",
              "      <td>7</td>\n",
              "      <td>5</td>\n",
              "      <td>0</td>\n",
              "      <td>0</td>\n",
              "      <td>0</td>\n",
              "      <td>0</td>\n",
              "      <td>1</td>\n",
              "      <td>1</td>\n",
              "      <td>0</td>\n",
              "      <td>CA</td>\n",
              "      <td>18</td>\n",
              "    </tr>\n",
              "    <tr>\n",
              "      <th>2</th>\n",
              "      <td>10476</td>\n",
              "      <td>1958</td>\n",
              "      <td>Graduation</td>\n",
              "      <td>Married</td>\n",
              "      <td>$67,267.00</td>\n",
              "      <td>0</td>\n",
              "      <td>1</td>\n",
              "      <td>5/13/14</td>\n",
              "      <td>0</td>\n",
              "      <td>134</td>\n",
              "      <td>11</td>\n",
              "      <td>59</td>\n",
              "      <td>15</td>\n",
              "      <td>2</td>\n",
              "      <td>30</td>\n",
              "      <td>1</td>\n",
              "      <td>3</td>\n",
              "      <td>2</td>\n",
              "      <td>5</td>\n",
              "      <td>2</td>\n",
              "      <td>0</td>\n",
              "      <td>0</td>\n",
              "      <td>0</td>\n",
              "      <td>0</td>\n",
              "      <td>0</td>\n",
              "      <td>0</td>\n",
              "      <td>0</td>\n",
              "      <td>US</td>\n",
              "      <td>11</td>\n",
              "    </tr>\n",
              "    <tr>\n",
              "      <th>3</th>\n",
              "      <td>1386</td>\n",
              "      <td>1967</td>\n",
              "      <td>Graduation</td>\n",
              "      <td>Together</td>\n",
              "      <td>$32,474.00</td>\n",
              "      <td>1</td>\n",
              "      <td>1</td>\n",
              "      <td>5/11/14</td>\n",
              "      <td>0</td>\n",
              "      <td>10</td>\n",
              "      <td>0</td>\n",
              "      <td>1</td>\n",
              "      <td>0</td>\n",
              "      <td>0</td>\n",
              "      <td>0</td>\n",
              "      <td>1</td>\n",
              "      <td>1</td>\n",
              "      <td>0</td>\n",
              "      <td>2</td>\n",
              "      <td>7</td>\n",
              "      <td>0</td>\n",
              "      <td>0</td>\n",
              "      <td>0</td>\n",
              "      <td>0</td>\n",
              "      <td>0</td>\n",
              "      <td>0</td>\n",
              "      <td>0</td>\n",
              "      <td>AUS</td>\n",
              "      <td>4</td>\n",
              "    </tr>\n",
              "    <tr>\n",
              "      <th>4</th>\n",
              "      <td>5371</td>\n",
              "      <td>1989</td>\n",
              "      <td>Graduation</td>\n",
              "      <td>Single</td>\n",
              "      <td>$21,474.00</td>\n",
              "      <td>1</td>\n",
              "      <td>0</td>\n",
              "      <td>4/8/14</td>\n",
              "      <td>0</td>\n",
              "      <td>6</td>\n",
              "      <td>16</td>\n",
              "      <td>24</td>\n",
              "      <td>11</td>\n",
              "      <td>0</td>\n",
              "      <td>34</td>\n",
              "      <td>2</td>\n",
              "      <td>3</td>\n",
              "      <td>1</td>\n",
              "      <td>2</td>\n",
              "      <td>7</td>\n",
              "      <td>1</td>\n",
              "      <td>0</td>\n",
              "      <td>0</td>\n",
              "      <td>0</td>\n",
              "      <td>0</td>\n",
              "      <td>1</td>\n",
              "      <td>0</td>\n",
              "      <td>SP</td>\n",
              "      <td>8</td>\n",
              "    </tr>\n",
              "  </tbody>\n",
              "</table>\n",
              "</div>"
            ],
            "text/plain": [
              "      ID  Year_Birth   Education  ... Complain Country  total_purchases\n",
              "0   1826        1970  Graduation  ...        0      SP               15\n",
              "1      1        1961  Graduation  ...        0      CA               18\n",
              "2  10476        1958  Graduation  ...        0      US               11\n",
              "3   1386        1967  Graduation  ...        0     AUS                4\n",
              "4   5371        1989  Graduation  ...        0      SP                8\n",
              "\n",
              "[5 rows x 29 columns]"
            ]
          },
          "metadata": {
            "tags": []
          },
          "execution_count": 30
        }
      ]
    },
    {
      "cell_type": "code",
      "metadata": {
        "colab": {
          "base_uri": "https://localhost:8080/"
        },
        "id": "hkfmNVHzYPWL",
        "outputId": "fdfb494e-a0c9-4c8d-d387-90b37c6c8094"
      },
      "source": [
        "dict = {}\n",
        "for i in df_market.columns:\n",
        "  if i[:-1]=='AcceptedCmp':\n",
        "    print(i, df_market[i].sum())\n",
        "    dict[i]=df_market[i].sum()\n",
        "    #print (i)\n",
        "dict"
      ],
      "execution_count": 31,
      "outputs": [
        {
          "output_type": "stream",
          "text": [
            "AcceptedCmp3 163\n",
            "AcceptedCmp4 167\n",
            "AcceptedCmp5 163\n",
            "AcceptedCmp1 144\n",
            "AcceptedCmp2 30\n"
          ],
          "name": "stdout"
        },
        {
          "output_type": "execute_result",
          "data": {
            "text/plain": [
              "{'AcceptedCmp1': 144,\n",
              " 'AcceptedCmp2': 30,\n",
              " 'AcceptedCmp3': 163,\n",
              " 'AcceptedCmp4': 167,\n",
              " 'AcceptedCmp5': 163}"
            ]
          },
          "metadata": {
            "tags": []
          },
          "execution_count": 31
        }
      ]
    },
    {
      "cell_type": "markdown",
      "metadata": {
        "id": "F9CYzn4gYq5o"
      },
      "source": [
        "\n",
        "Assuming appearing of 1 as success rate, Campaign 2 seems least successful."
      ]
    },
    {
      "cell_type": "markdown",
      "metadata": {
        "id": "gZx9k4s_Vofo"
      },
      "source": [
        "###Dataset 3. goodreads.csv:\n",
        "####5. Which of the following parameter (additional) is required to read the goodreads.csv file using pandas?\n",
        "\n",
        "The dataset can be imported as pandas dataframe using the following link: https://raw.githubusercontent.com/insaid2018/INSAID-Activities/main/Data%20Detective%20Challenge/goodreads.csv"
      ]
    },
    {
      "cell_type": "code",
      "metadata": {
        "id": "7PRe1rjeVqJ9"
      },
      "source": [
        "df_goodreads = pd.read_csv('https://raw.githubusercontent.com/insaid2018/INSAID-Activities/main/Data%20Detective%20Challenge/goodreads.csv', )"
      ],
      "execution_count": 32,
      "outputs": []
    },
    {
      "cell_type": "code",
      "metadata": {
        "colab": {
          "base_uri": "https://localhost:8080/",
          "height": 297
        },
        "id": "u6VU67RsXqjM",
        "outputId": "c1ccc57a-21e6-4298-daab-58ab390a7598"
      },
      "source": [
        "df_goodreads.describe()"
      ],
      "execution_count": 33,
      "outputs": [
        {
          "output_type": "execute_result",
          "data": {
            "text/html": [
              "<div>\n",
              "<style scoped>\n",
              "    .dataframe tbody tr th:only-of-type {\n",
              "        vertical-align: middle;\n",
              "    }\n",
              "\n",
              "    .dataframe tbody tr th {\n",
              "        vertical-align: top;\n",
              "    }\n",
              "\n",
              "    .dataframe thead th {\n",
              "        text-align: right;\n",
              "    }\n",
              "</style>\n",
              "<table border=\"1\" class=\"dataframe\">\n",
              "  <thead>\n",
              "    <tr style=\"text-align: right;\">\n",
              "      <th></th>\n",
              "      <th>bookID</th>\n",
              "      <th>average_rating</th>\n",
              "      <th>isbn13</th>\n",
              "      <th>num_pages</th>\n",
              "      <th>ratings_count</th>\n",
              "      <th>text_reviews_count</th>\n",
              "    </tr>\n",
              "  </thead>\n",
              "  <tbody>\n",
              "    <tr>\n",
              "      <th>count</th>\n",
              "      <td>11123.000000</td>\n",
              "      <td>11123.000000</td>\n",
              "      <td>1.112300e+04</td>\n",
              "      <td>11123.000000</td>\n",
              "      <td>1.112300e+04</td>\n",
              "      <td>11123.000000</td>\n",
              "    </tr>\n",
              "    <tr>\n",
              "      <th>mean</th>\n",
              "      <td>21310.856963</td>\n",
              "      <td>3.934075</td>\n",
              "      <td>9.759880e+12</td>\n",
              "      <td>336.405556</td>\n",
              "      <td>1.794285e+04</td>\n",
              "      <td>542.048099</td>\n",
              "    </tr>\n",
              "    <tr>\n",
              "      <th>std</th>\n",
              "      <td>13094.727252</td>\n",
              "      <td>0.350485</td>\n",
              "      <td>4.429758e+11</td>\n",
              "      <td>241.152626</td>\n",
              "      <td>1.124992e+05</td>\n",
              "      <td>2576.619589</td>\n",
              "    </tr>\n",
              "    <tr>\n",
              "      <th>min</th>\n",
              "      <td>1.000000</td>\n",
              "      <td>0.000000</td>\n",
              "      <td>8.987060e+09</td>\n",
              "      <td>0.000000</td>\n",
              "      <td>0.000000e+00</td>\n",
              "      <td>0.000000</td>\n",
              "    </tr>\n",
              "    <tr>\n",
              "      <th>25%</th>\n",
              "      <td>10277.500000</td>\n",
              "      <td>3.770000</td>\n",
              "      <td>9.780345e+12</td>\n",
              "      <td>192.000000</td>\n",
              "      <td>1.040000e+02</td>\n",
              "      <td>9.000000</td>\n",
              "    </tr>\n",
              "    <tr>\n",
              "      <th>50%</th>\n",
              "      <td>20287.000000</td>\n",
              "      <td>3.960000</td>\n",
              "      <td>9.780582e+12</td>\n",
              "      <td>299.000000</td>\n",
              "      <td>7.450000e+02</td>\n",
              "      <td>47.000000</td>\n",
              "    </tr>\n",
              "    <tr>\n",
              "      <th>75%</th>\n",
              "      <td>32104.500000</td>\n",
              "      <td>4.140000</td>\n",
              "      <td>9.780872e+12</td>\n",
              "      <td>416.000000</td>\n",
              "      <td>5.000500e+03</td>\n",
              "      <td>238.000000</td>\n",
              "    </tr>\n",
              "    <tr>\n",
              "      <th>max</th>\n",
              "      <td>45641.000000</td>\n",
              "      <td>5.000000</td>\n",
              "      <td>9.790008e+12</td>\n",
              "      <td>6576.000000</td>\n",
              "      <td>4.597666e+06</td>\n",
              "      <td>94265.000000</td>\n",
              "    </tr>\n",
              "  </tbody>\n",
              "</table>\n",
              "</div>"
            ],
            "text/plain": [
              "             bookID  average_rating  ...  ratings_count  text_reviews_count\n",
              "count  11123.000000    11123.000000  ...   1.112300e+04        11123.000000\n",
              "mean   21310.856963        3.934075  ...   1.794285e+04          542.048099\n",
              "std    13094.727252        0.350485  ...   1.124992e+05         2576.619589\n",
              "min        1.000000        0.000000  ...   0.000000e+00            0.000000\n",
              "25%    10277.500000        3.770000  ...   1.040000e+02            9.000000\n",
              "50%    20287.000000        3.960000  ...   7.450000e+02           47.000000\n",
              "75%    32104.500000        4.140000  ...   5.000500e+03          238.000000\n",
              "max    45641.000000        5.000000  ...   4.597666e+06        94265.000000\n",
              "\n",
              "[8 rows x 6 columns]"
            ]
          },
          "metadata": {
            "tags": []
          },
          "execution_count": 33
        }
      ]
    },
    {
      "cell_type": "markdown",
      "metadata": {
        "id": "smTAYPEBWXj0"
      },
      "source": [
        "####14. How many books can be considered as outliers based on the average rating? Note: Use 1.5 as a threshold value to estimate upper and lower limits using IQR to detect the outliers.\n",
        "\n",
        "##Missed this one.."
      ]
    },
    {
      "cell_type": "code",
      "metadata": {
        "id": "gEGfdMuH1E1I"
      },
      "source": [
        ""
      ],
      "execution_count": null,
      "outputs": []
    },
    {
      "cell_type": "markdown",
      "metadata": {
        "id": "PpSNML57xRXz"
      },
      "source": [
        "####24. How many Spanish authors have written more than three books?"
      ]
    },
    {
      "cell_type": "code",
      "metadata": {
        "id": "ngYlZaig1Re_"
      },
      "source": [
        "df_count = df_goodreads[df_goodreads['language_code'] == 'spa'].groupby('authors')['bookID'].count().reset_index()"
      ],
      "execution_count": 37,
      "outputs": []
    },
    {
      "cell_type": "code",
      "metadata": {
        "colab": {
          "base_uri": "https://localhost:8080/",
          "height": 419
        },
        "id": "40cBZfEt-0eV",
        "outputId": "4977d95a-3a7b-44cc-b50d-c54ca0b9a45c"
      },
      "source": [
        "df_count"
      ],
      "execution_count": 35,
      "outputs": [
        {
          "output_type": "execute_result",
          "data": {
            "text/html": [
              "<div>\n",
              "<style scoped>\n",
              "    .dataframe tbody tr th:only-of-type {\n",
              "        vertical-align: middle;\n",
              "    }\n",
              "\n",
              "    .dataframe tbody tr th {\n",
              "        vertical-align: top;\n",
              "    }\n",
              "\n",
              "    .dataframe thead th {\n",
              "        text-align: right;\n",
              "    }\n",
              "</style>\n",
              "<table border=\"1\" class=\"dataframe\">\n",
              "  <thead>\n",
              "    <tr style=\"text-align: right;\">\n",
              "      <th></th>\n",
              "      <th>authors</th>\n",
              "      <th>bookID</th>\n",
              "    </tr>\n",
              "  </thead>\n",
              "  <tbody>\n",
              "    <tr>\n",
              "      <th>0</th>\n",
              "      <td>Adolfo Bioy Casares</td>\n",
              "      <td>1</td>\n",
              "    </tr>\n",
              "    <tr>\n",
              "      <th>1</th>\n",
              "      <td>Albert Camus/Manuel de Lope</td>\n",
              "      <td>1</td>\n",
              "    </tr>\n",
              "    <tr>\n",
              "      <th>2</th>\n",
              "      <td>Alexander McCall Smith/Marta Torent López de L...</td>\n",
              "      <td>1</td>\n",
              "    </tr>\n",
              "    <tr>\n",
              "      <th>3</th>\n",
              "      <td>Alice Sebold/Aurora Echevarría</td>\n",
              "      <td>1</td>\n",
              "    </tr>\n",
              "    <tr>\n",
              "      <th>4</th>\n",
              "      <td>Amy Tan/Claudia Conde</td>\n",
              "      <td>1</td>\n",
              "    </tr>\n",
              "    <tr>\n",
              "      <th>...</th>\n",
              "      <td>...</td>\n",
              "      <td>...</td>\n",
              "    </tr>\n",
              "    <tr>\n",
              "      <th>159</th>\n",
              "      <td>William Goldman</td>\n",
              "      <td>1</td>\n",
              "    </tr>\n",
              "    <tr>\n",
              "      <th>160</th>\n",
              "      <td>Yann Martel/Bianca Southwood</td>\n",
              "      <td>1</td>\n",
              "    </tr>\n",
              "    <tr>\n",
              "      <th>161</th>\n",
              "      <td>Z.Z. Packer/María Pérez López de Heredia</td>\n",
              "      <td>1</td>\n",
              "    </tr>\n",
              "    <tr>\n",
              "      <th>162</th>\n",
              "      <td>Zadie Smith</td>\n",
              "      <td>1</td>\n",
              "    </tr>\n",
              "    <tr>\n",
              "      <th>163</th>\n",
              "      <td>Åsne Seierstad</td>\n",
              "      <td>1</td>\n",
              "    </tr>\n",
              "  </tbody>\n",
              "</table>\n",
              "<p>164 rows × 2 columns</p>\n",
              "</div>"
            ],
            "text/plain": [
              "                                               authors  bookID\n",
              "0                                  Adolfo Bioy Casares       1\n",
              "1                          Albert Camus/Manuel de Lope       1\n",
              "2    Alexander McCall Smith/Marta Torent López de L...       1\n",
              "3                       Alice Sebold/Aurora Echevarría       1\n",
              "4                                Amy Tan/Claudia Conde       1\n",
              "..                                                 ...     ...\n",
              "159                                    William Goldman       1\n",
              "160                       Yann Martel/Bianca Southwood       1\n",
              "161           Z.Z. Packer/María Pérez López de Heredia       1\n",
              "162                                        Zadie Smith       1\n",
              "163                                     Åsne Seierstad       1\n",
              "\n",
              "[164 rows x 2 columns]"
            ]
          },
          "metadata": {
            "tags": []
          },
          "execution_count": 35
        }
      ]
    },
    {
      "cell_type": "code",
      "metadata": {
        "colab": {
          "base_uri": "https://localhost:8080/",
          "height": 734
        },
        "id": "Z6DsSW1f05uE",
        "outputId": "2c0ce3ce-c12c-4a09-d0d9-d2c44ce1741c"
      },
      "source": [
        "df_goodreads.head()"
      ],
      "execution_count": null,
      "outputs": [
        {
          "output_type": "execute_result",
          "data": {
            "text/html": [
              "<div>\n",
              "<style scoped>\n",
              "    .dataframe tbody tr th:only-of-type {\n",
              "        vertical-align: middle;\n",
              "    }\n",
              "\n",
              "    .dataframe tbody tr th {\n",
              "        vertical-align: top;\n",
              "    }\n",
              "\n",
              "    .dataframe thead th {\n",
              "        text-align: right;\n",
              "    }\n",
              "</style>\n",
              "<table border=\"1\" class=\"dataframe\">\n",
              "  <thead>\n",
              "    <tr style=\"text-align: right;\">\n",
              "      <th></th>\n",
              "      <th>bookID</th>\n",
              "      <th>title</th>\n",
              "      <th>authors</th>\n",
              "      <th>average_rating</th>\n",
              "      <th>isbn</th>\n",
              "      <th>isbn13</th>\n",
              "      <th>language_code</th>\n",
              "      <th>num_pages</th>\n",
              "      <th>ratings_count</th>\n",
              "      <th>text_reviews_count</th>\n",
              "      <th>publication_date</th>\n",
              "      <th>publisher</th>\n",
              "    </tr>\n",
              "  </thead>\n",
              "  <tbody>\n",
              "    <tr>\n",
              "      <th>0</th>\n",
              "      <td>1</td>\n",
              "      <td>Harry Potter and the Half-Blood Prince (Harry ...</td>\n",
              "      <td>J.K. Rowling/Mary GrandPré</td>\n",
              "      <td>4.57</td>\n",
              "      <td>0439785960</td>\n",
              "      <td>9780439785969</td>\n",
              "      <td>eng</td>\n",
              "      <td>652</td>\n",
              "      <td>2095690</td>\n",
              "      <td>27591</td>\n",
              "      <td>9/16/2006</td>\n",
              "      <td>Scholastic Inc.</td>\n",
              "    </tr>\n",
              "    <tr>\n",
              "      <th>1</th>\n",
              "      <td>2</td>\n",
              "      <td>Harry Potter and the Order of the Phoenix (Har...</td>\n",
              "      <td>J.K. Rowling/Mary GrandPré</td>\n",
              "      <td>4.49</td>\n",
              "      <td>0439358078</td>\n",
              "      <td>9780439358071</td>\n",
              "      <td>eng</td>\n",
              "      <td>870</td>\n",
              "      <td>2153167</td>\n",
              "      <td>29221</td>\n",
              "      <td>9/1/2004</td>\n",
              "      <td>Scholastic Inc.</td>\n",
              "    </tr>\n",
              "    <tr>\n",
              "      <th>2</th>\n",
              "      <td>4</td>\n",
              "      <td>Harry Potter and the Chamber of Secrets (Harry...</td>\n",
              "      <td>J.K. Rowling</td>\n",
              "      <td>4.42</td>\n",
              "      <td>0439554896</td>\n",
              "      <td>9780439554893</td>\n",
              "      <td>eng</td>\n",
              "      <td>352</td>\n",
              "      <td>6333</td>\n",
              "      <td>244</td>\n",
              "      <td>11/1/2003</td>\n",
              "      <td>Scholastic</td>\n",
              "    </tr>\n",
              "    <tr>\n",
              "      <th>3</th>\n",
              "      <td>5</td>\n",
              "      <td>Harry Potter and the Prisoner of Azkaban (Harr...</td>\n",
              "      <td>J.K. Rowling/Mary GrandPré</td>\n",
              "      <td>4.56</td>\n",
              "      <td>043965548X</td>\n",
              "      <td>9780439655484</td>\n",
              "      <td>eng</td>\n",
              "      <td>435</td>\n",
              "      <td>2339585</td>\n",
              "      <td>36325</td>\n",
              "      <td>5/1/2004</td>\n",
              "      <td>Scholastic Inc.</td>\n",
              "    </tr>\n",
              "    <tr>\n",
              "      <th>4</th>\n",
              "      <td>8</td>\n",
              "      <td>Harry Potter Boxed Set  Books 1-5 (Harry Potte...</td>\n",
              "      <td>J.K. Rowling/Mary GrandPré</td>\n",
              "      <td>4.78</td>\n",
              "      <td>0439682584</td>\n",
              "      <td>9780439682589</td>\n",
              "      <td>eng</td>\n",
              "      <td>2690</td>\n",
              "      <td>41428</td>\n",
              "      <td>164</td>\n",
              "      <td>9/13/2004</td>\n",
              "      <td>Scholastic</td>\n",
              "    </tr>\n",
              "  </tbody>\n",
              "</table>\n",
              "</div>"
            ],
            "text/plain": [
              "   bookID                                              title                     authors  average_rating        isbn         isbn13 language_code  num_pages  ratings_count  text_reviews_count publication_date        publisher\n",
              "0       1  Harry Potter and the Half-Blood Prince (Harry ...  J.K. Rowling/Mary GrandPré            4.57  0439785960  9780439785969           eng        652        2095690               27591        9/16/2006  Scholastic Inc.\n",
              "1       2  Harry Potter and the Order of the Phoenix (Har...  J.K. Rowling/Mary GrandPré            4.49  0439358078  9780439358071           eng        870        2153167               29221         9/1/2004  Scholastic Inc.\n",
              "2       4  Harry Potter and the Chamber of Secrets (Harry...                J.K. Rowling            4.42  0439554896  9780439554893           eng        352           6333                 244        11/1/2003       Scholastic\n",
              "3       5  Harry Potter and the Prisoner of Azkaban (Harr...  J.K. Rowling/Mary GrandPré            4.56  043965548X  9780439655484           eng        435        2339585               36325         5/1/2004  Scholastic Inc.\n",
              "4       8  Harry Potter Boxed Set  Books 1-5 (Harry Potte...  J.K. Rowling/Mary GrandPré            4.78  0439682584  9780439682589           eng       2690          41428                 164        9/13/2004       Scholastic"
            ]
          },
          "metadata": {
            "tags": []
          },
          "execution_count": 279
        }
      ]
    },
    {
      "cell_type": "markdown",
      "metadata": {
        "id": "_DfYgNtEY9QJ"
      },
      "source": [
        "###20 How many Lord of the Rings books are available as audiobooks? \n",
        "\n",
        "Note: The publisher column has Audio as a subtext in the publisher name.\n",
        "\n",
        "For example, HarperAudio and Phoenix Audio publish audiobooks. "
      ]
    },
    {
      "cell_type": "code",
      "metadata": {
        "colab": {
          "base_uri": "https://localhost:8080/",
          "height": 318
        },
        "id": "IZP3puLteFy6",
        "outputId": "1fbfa326-55eb-4167-c724-edffd5affbd3"
      },
      "source": [
        "df_goodreads[(df_goodreads.publisher.str.contains('udio')) & (df_goodreads.title.str.contains('Lord of the Rings'))]"
      ],
      "execution_count": 42,
      "outputs": [
        {
          "output_type": "execute_result",
          "data": {
            "text/html": [
              "<div>\n",
              "<style scoped>\n",
              "    .dataframe tbody tr th:only-of-type {\n",
              "        vertical-align: middle;\n",
              "    }\n",
              "\n",
              "    .dataframe tbody tr th {\n",
              "        vertical-align: top;\n",
              "    }\n",
              "\n",
              "    .dataframe thead th {\n",
              "        text-align: right;\n",
              "    }\n",
              "</style>\n",
              "<table border=\"1\" class=\"dataframe\">\n",
              "  <thead>\n",
              "    <tr style=\"text-align: right;\">\n",
              "      <th></th>\n",
              "      <th>bookID</th>\n",
              "      <th>title</th>\n",
              "      <th>authors</th>\n",
              "      <th>average_rating</th>\n",
              "      <th>isbn</th>\n",
              "      <th>isbn13</th>\n",
              "      <th>language_code</th>\n",
              "      <th>num_pages</th>\n",
              "      <th>ratings_count</th>\n",
              "      <th>text_reviews_count</th>\n",
              "      <th>publication_date</th>\n",
              "      <th>publisher</th>\n",
              "    </tr>\n",
              "  </thead>\n",
              "  <tbody>\n",
              "    <tr>\n",
              "      <th>4270</th>\n",
              "      <td>15330</td>\n",
              "      <td>The Return of the King (The Lord of the Rings ...</td>\n",
              "      <td>Brian Sibley/J.R.R. Tolkien</td>\n",
              "      <td>4.35</td>\n",
              "      <td>0563536594</td>\n",
              "      <td>9780563536598</td>\n",
              "      <td>eng</td>\n",
              "      <td>1</td>\n",
              "      <td>17</td>\n",
              "      <td>3</td>\n",
              "      <td>3/4/2002</td>\n",
              "      <td>BBC Audiobooks Ltd</td>\n",
              "    </tr>\n",
              "    <tr>\n",
              "      <th>4276</th>\n",
              "      <td>15369</td>\n",
              "      <td>The Lord of the Rings</td>\n",
              "      <td>J.R.R. Tolkien/Brian Sibley/Michael Bakewell/S...</td>\n",
              "      <td>4.50</td>\n",
              "      <td>0563494859</td>\n",
              "      <td>9780563494850</td>\n",
              "      <td>eng</td>\n",
              "      <td>15</td>\n",
              "      <td>2</td>\n",
              "      <td>0</td>\n",
              "      <td>10/6/2003</td>\n",
              "      <td>BBC Audiobooks</td>\n",
              "    </tr>\n",
              "  </tbody>\n",
              "</table>\n",
              "</div>"
            ],
            "text/plain": [
              "      bookID  ...           publisher\n",
              "4270   15330  ...  BBC Audiobooks Ltd\n",
              "4276   15369  ...      BBC Audiobooks\n",
              "\n",
              "[2 rows x 12 columns]"
            ]
          },
          "metadata": {
            "tags": []
          },
          "execution_count": 42
        }
      ]
    },
    {
      "cell_type": "markdown",
      "metadata": {
        "id": "TXxTaALMlX4l"
      },
      "source": [
        "###Dataset 4. AB_NYC_2019.csv\n",
        "\n",
        "####7. Which of the following neighborhood is the most expensive in the neighbourhood_group that provides the most number of \"Entire home/Apartments\" room_type in NYC?\n",
        "\n",
        "Note: You need to remove null values to get the correct answer.\n",
        "\n",
        "The dataset can be imported as pandas dataframe using the following link: https://raw.githubusercontent.com/insaid2018/INSAID-Activities/main/Data%20Detective%20Challenge/AB_NYC_2019.csv"
      ]
    },
    {
      "cell_type": "code",
      "metadata": {
        "id": "ns8Nd8xXlZfH"
      },
      "source": [
        "df_neighborhood = pd.read_csv('https://raw.githubusercontent.com/insaid2018/INSAID-Activities/main/Data%20Detective%20Challenge/AB_NYC_2019.csv')"
      ],
      "execution_count": null,
      "outputs": []
    },
    {
      "cell_type": "code",
      "metadata": {
        "colab": {
          "base_uri": "https://localhost:8080/",
          "height": 411
        },
        "id": "x-AjuvrnlznR",
        "outputId": "339f8310-9252-4c53-a932-197b74ba7bef"
      },
      "source": [
        "df_neighborhood.head()"
      ],
      "execution_count": null,
      "outputs": [
        {
          "output_type": "execute_result",
          "data": {
            "text/html": [
              "<div>\n",
              "<style scoped>\n",
              "    .dataframe tbody tr th:only-of-type {\n",
              "        vertical-align: middle;\n",
              "    }\n",
              "\n",
              "    .dataframe tbody tr th {\n",
              "        vertical-align: top;\n",
              "    }\n",
              "\n",
              "    .dataframe thead th {\n",
              "        text-align: right;\n",
              "    }\n",
              "</style>\n",
              "<table border=\"1\" class=\"dataframe\">\n",
              "  <thead>\n",
              "    <tr style=\"text-align: right;\">\n",
              "      <th></th>\n",
              "      <th>id</th>\n",
              "      <th>name</th>\n",
              "      <th>host_id</th>\n",
              "      <th>host_name</th>\n",
              "      <th>neighbourhood_group</th>\n",
              "      <th>neighbourhood</th>\n",
              "      <th>latitude</th>\n",
              "      <th>longitude</th>\n",
              "      <th>room_type</th>\n",
              "      <th>price</th>\n",
              "      <th>minimum_nights</th>\n",
              "      <th>number_of_reviews</th>\n",
              "      <th>last_review</th>\n",
              "      <th>reviews_per_month</th>\n",
              "      <th>calculated_host_listings_count</th>\n",
              "      <th>availability_365</th>\n",
              "    </tr>\n",
              "  </thead>\n",
              "  <tbody>\n",
              "    <tr>\n",
              "      <th>0</th>\n",
              "      <td>2539</td>\n",
              "      <td>Clean &amp; quiet apt home by the park</td>\n",
              "      <td>2787</td>\n",
              "      <td>John</td>\n",
              "      <td>Brooklyn</td>\n",
              "      <td>Kensington</td>\n",
              "      <td>40.64749</td>\n",
              "      <td>-73.97237</td>\n",
              "      <td>Private room</td>\n",
              "      <td>149</td>\n",
              "      <td>1</td>\n",
              "      <td>9</td>\n",
              "      <td>2018-10-19</td>\n",
              "      <td>0.21</td>\n",
              "      <td>6</td>\n",
              "      <td>365</td>\n",
              "    </tr>\n",
              "    <tr>\n",
              "      <th>1</th>\n",
              "      <td>2595</td>\n",
              "      <td>Skylit Midtown Castle</td>\n",
              "      <td>2845</td>\n",
              "      <td>Jennifer</td>\n",
              "      <td>Manhattan</td>\n",
              "      <td>Midtown</td>\n",
              "      <td>40.75362</td>\n",
              "      <td>-73.98377</td>\n",
              "      <td>Entire home/apt</td>\n",
              "      <td>225</td>\n",
              "      <td>1</td>\n",
              "      <td>45</td>\n",
              "      <td>2019-05-21</td>\n",
              "      <td>0.38</td>\n",
              "      <td>2</td>\n",
              "      <td>355</td>\n",
              "    </tr>\n",
              "    <tr>\n",
              "      <th>2</th>\n",
              "      <td>3647</td>\n",
              "      <td>THE VILLAGE OF HARLEM....NEW YORK !</td>\n",
              "      <td>4632</td>\n",
              "      <td>Elisabeth</td>\n",
              "      <td>Manhattan</td>\n",
              "      <td>Harlem</td>\n",
              "      <td>40.80902</td>\n",
              "      <td>-73.94190</td>\n",
              "      <td>Private room</td>\n",
              "      <td>150</td>\n",
              "      <td>3</td>\n",
              "      <td>0</td>\n",
              "      <td>NaN</td>\n",
              "      <td>NaN</td>\n",
              "      <td>1</td>\n",
              "      <td>365</td>\n",
              "    </tr>\n",
              "    <tr>\n",
              "      <th>3</th>\n",
              "      <td>3831</td>\n",
              "      <td>Cozy Entire Floor of Brownstone</td>\n",
              "      <td>4869</td>\n",
              "      <td>LisaRoxanne</td>\n",
              "      <td>Brooklyn</td>\n",
              "      <td>Clinton Hill</td>\n",
              "      <td>40.68514</td>\n",
              "      <td>-73.95976</td>\n",
              "      <td>Entire home/apt</td>\n",
              "      <td>89</td>\n",
              "      <td>1</td>\n",
              "      <td>270</td>\n",
              "      <td>2019-07-05</td>\n",
              "      <td>4.64</td>\n",
              "      <td>1</td>\n",
              "      <td>194</td>\n",
              "    </tr>\n",
              "    <tr>\n",
              "      <th>4</th>\n",
              "      <td>5022</td>\n",
              "      <td>Entire Apt: Spacious Studio/Loft by central park</td>\n",
              "      <td>7192</td>\n",
              "      <td>Laura</td>\n",
              "      <td>Manhattan</td>\n",
              "      <td>East Harlem</td>\n",
              "      <td>40.79851</td>\n",
              "      <td>-73.94399</td>\n",
              "      <td>Entire home/apt</td>\n",
              "      <td>80</td>\n",
              "      <td>10</td>\n",
              "      <td>9</td>\n",
              "      <td>2018-11-19</td>\n",
              "      <td>0.10</td>\n",
              "      <td>1</td>\n",
              "      <td>0</td>\n",
              "    </tr>\n",
              "  </tbody>\n",
              "</table>\n",
              "</div>"
            ],
            "text/plain": [
              "     id                                              name  host_id    host_name neighbourhood_group neighbourhood  latitude  longitude        room_type  price  minimum_nights  number_of_reviews last_review  reviews_per_month  calculated_host_listings_count  availability_365\n",
              "0  2539                Clean & quiet apt home by the park     2787         John            Brooklyn    Kensington  40.64749  -73.97237     Private room    149               1                  9  2018-10-19               0.21                               6               365\n",
              "1  2595                             Skylit Midtown Castle     2845     Jennifer           Manhattan       Midtown  40.75362  -73.98377  Entire home/apt    225               1                 45  2019-05-21               0.38                               2               355\n",
              "2  3647               THE VILLAGE OF HARLEM....NEW YORK !     4632    Elisabeth           Manhattan        Harlem  40.80902  -73.94190     Private room    150               3                  0         NaN                NaN                               1               365\n",
              "3  3831                   Cozy Entire Floor of Brownstone     4869  LisaRoxanne            Brooklyn  Clinton Hill  40.68514  -73.95976  Entire home/apt     89               1                270  2019-07-05               4.64                               1               194\n",
              "4  5022  Entire Apt: Spacious Studio/Loft by central park     7192        Laura           Manhattan   East Harlem  40.79851  -73.94399  Entire home/apt     80              10                  9  2018-11-19               0.10                               1                 0"
            ]
          },
          "metadata": {
            "tags": []
          },
          "execution_count": 73
        }
      ]
    },
    {
      "cell_type": "code",
      "metadata": {
        "colab": {
          "base_uri": "https://localhost:8080/"
        },
        "id": "Vw7jdINOmDsy",
        "outputId": "6e22ea5c-1062-445d-eb20-67a7562eec91"
      },
      "source": [
        "df_neighborhood[df_neighborhood['room_type'] == 'Entire home/apt'].groupby(['neighbourhood_group', 'neighbourhood'])['price'].max()"
      ],
      "execution_count": null,
      "outputs": [
        {
          "output_type": "execute_result",
          "data": {
            "text/plain": [
              "neighbourhood_group  neighbourhood\n",
              "Bronx                Allerton         450\n",
              "                     Baychester       101\n",
              "                     Belmont          299\n",
              "                     Bronxdale        100\n",
              "                     Castle Hill      128\n",
              "                                     ... \n",
              "Staten Island        Tottenville      299\n",
              "                     West Brighton    190\n",
              "                     Westerleigh      103\n",
              "                     Willowbrook      249\n",
              "                     Woodrow          700\n",
              "Name: price, Length: 216, dtype: int64"
            ]
          },
          "metadata": {
            "tags": []
          },
          "execution_count": 190
        }
      ]
    },
    {
      "cell_type": "markdown",
      "metadata": {
        "id": "jpQBmXg9UES5"
      },
      "source": [
        "####18. How much is the difference between the average pricing of the neighbourhood having the least average pricing of homes and the average pricing of the neighbourhood_group it comes under?\n",
        "\n",
        "Note: You need to remove null values to get the correct answer."
      ]
    },
    {
      "cell_type": "code",
      "metadata": {
        "colab": {
          "base_uri": "https://localhost:8080/"
        },
        "id": "HYamIXdCU_GL",
        "outputId": "6fe2a996-7b70-4326-e774-49cca85248ed"
      },
      "source": [
        "df_neighborhood.groupby('neighbourhood')['price'].mean().nsmallest(1)"
      ],
      "execution_count": null,
      "outputs": [
        {
          "output_type": "execute_result",
          "data": {
            "text/plain": [
              "neighbourhood\n",
              "Bull's Head    47.333333\n",
              "Name: price, dtype: float64"
            ]
          },
          "metadata": {
            "tags": []
          },
          "execution_count": 196
        }
      ]
    },
    {
      "cell_type": "code",
      "metadata": {
        "colab": {
          "base_uri": "https://localhost:8080/"
        },
        "id": "WgEM8eVAVjSX",
        "outputId": "0e0a4e5e-b45c-4293-98e4-3ed72d6e7d03"
      },
      "source": [
        "df_neighborhood[df_neighborhood['neighbourhood'] == 'Bull\\'s Head'].groupby('neighbourhood_group')['price'].mean()"
      ],
      "execution_count": null,
      "outputs": [
        {
          "output_type": "execute_result",
          "data": {
            "text/plain": [
              "neighbourhood_group\n",
              "Staten Island    47.333333\n",
              "Name: price, dtype: float64"
            ]
          },
          "metadata": {
            "tags": []
          },
          "execution_count": 198
        }
      ]
    },
    {
      "cell_type": "code",
      "metadata": {
        "colab": {
          "base_uri": "https://localhost:8080/",
          "height": 250
        },
        "id": "7BNpOIZ4UfE5",
        "outputId": "127a158e-9d47-4107-8b3a-96cfb90e7486"
      },
      "source": [
        "df_neighborhood"
      ],
      "execution_count": null,
      "outputs": [
        {
          "output_type": "execute_result",
          "data": {
            "text/html": [
              "<div>\n",
              "<style scoped>\n",
              "    .dataframe tbody tr th:only-of-type {\n",
              "        vertical-align: middle;\n",
              "    }\n",
              "\n",
              "    .dataframe tbody tr th {\n",
              "        vertical-align: top;\n",
              "    }\n",
              "\n",
              "    .dataframe thead th {\n",
              "        text-align: right;\n",
              "    }\n",
              "</style>\n",
              "<table border=\"1\" class=\"dataframe\">\n",
              "  <thead>\n",
              "    <tr style=\"text-align: right;\">\n",
              "      <th></th>\n",
              "      <th>id</th>\n",
              "      <th>name</th>\n",
              "      <th>host_id</th>\n",
              "      <th>host_name</th>\n",
              "      <th>neighbourhood_group</th>\n",
              "      <th>neighbourhood</th>\n",
              "      <th>latitude</th>\n",
              "      <th>longitude</th>\n",
              "      <th>room_type</th>\n",
              "      <th>price</th>\n",
              "      <th>minimum_nights</th>\n",
              "      <th>number_of_reviews</th>\n",
              "      <th>last_review</th>\n",
              "      <th>reviews_per_month</th>\n",
              "      <th>calculated_host_listings_count</th>\n",
              "      <th>availability_365</th>\n",
              "    </tr>\n",
              "  </thead>\n",
              "  <tbody>\n",
              "    <tr>\n",
              "      <th>0</th>\n",
              "      <td>2539</td>\n",
              "      <td>Clean &amp; quiet apt home by the park</td>\n",
              "      <td>2787</td>\n",
              "      <td>John</td>\n",
              "      <td>Brooklyn</td>\n",
              "      <td>Kensington</td>\n",
              "      <td>40.64749</td>\n",
              "      <td>-73.97237</td>\n",
              "      <td>Private room</td>\n",
              "      <td>149</td>\n",
              "      <td>1</td>\n",
              "      <td>9</td>\n",
              "      <td>2018-10-19</td>\n",
              "      <td>0.21</td>\n",
              "      <td>6</td>\n",
              "      <td>365</td>\n",
              "    </tr>\n",
              "    <tr>\n",
              "      <th>1</th>\n",
              "      <td>2595</td>\n",
              "      <td>Skylit Midtown Castle</td>\n",
              "      <td>2845</td>\n",
              "      <td>Jennifer</td>\n",
              "      <td>Manhattan</td>\n",
              "      <td>Midtown</td>\n",
              "      <td>40.75362</td>\n",
              "      <td>-73.98377</td>\n",
              "      <td>Entire home/apt</td>\n",
              "      <td>225</td>\n",
              "      <td>1</td>\n",
              "      <td>45</td>\n",
              "      <td>2019-05-21</td>\n",
              "      <td>0.38</td>\n",
              "      <td>2</td>\n",
              "      <td>355</td>\n",
              "    </tr>\n",
              "  </tbody>\n",
              "</table>\n",
              "</div>"
            ],
            "text/plain": [
              "     id                                name  host_id host_name neighbourhood_group neighbourhood  latitude  longitude        room_type  price  minimum_nights  number_of_reviews last_review  reviews_per_month  calculated_host_listings_count  availability_365\n",
              "0  2539  Clean & quiet apt home by the park     2787      John            Brooklyn    Kensington  40.64749  -73.97237     Private room    149               1                  9  2018-10-19               0.21                               6               365\n",
              "1  2595               Skylit Midtown Castle     2845  Jennifer           Manhattan       Midtown  40.75362  -73.98377  Entire home/apt    225               1                 45  2019-05-21               0.38                               2               355"
            ]
          },
          "metadata": {
            "tags": []
          },
          "execution_count": 192
        }
      ]
    },
    {
      "cell_type": "code",
      "metadata": {
        "id": "cxVG4NfwUFN2"
      },
      "source": [
        ""
      ],
      "execution_count": null,
      "outputs": []
    },
    {
      "cell_type": "markdown",
      "metadata": {
        "id": "gbPi6DnAPsk6"
      },
      "source": [
        "### Dataset 5. Netflex"
      ]
    },
    {
      "cell_type": "markdown",
      "metadata": {
        "id": "jAOY3FLcresY"
      },
      "source": [
        "####9. Which TV show has the biggest cast and has a valid director name?\n",
        "\n",
        "The dataset can be imported as pandas dataframe using the following link: https://raw.githubusercontent.com/insaid2018/INSAID-Activities/main/Data%20Detective%20Challenge/netflix_content.csv"
      ]
    },
    {
      "cell_type": "code",
      "metadata": {
        "id": "Oo-FmO4Mrfuo"
      },
      "source": [
        "df_netflix = pd.read_csv('https://raw.githubusercontent.com/insaid2018/INSAID-Activities/main/Data%20Detective%20Challenge/netflix_content.csv')"
      ],
      "execution_count": null,
      "outputs": []
    },
    {
      "cell_type": "code",
      "metadata": {
        "colab": {
          "base_uri": "https://localhost:8080/"
        },
        "id": "f09KSnB5sSAd",
        "outputId": "f7e84e08-460c-4c02-e1f2-114d902c6da8"
      },
      "source": [
        "df_netflix[(df_netflix['type'] =='TV Show') & (df_netflix['director'].notnull())]['num_cast'].nlargest(5).index"
      ],
      "execution_count": null,
      "outputs": [
        {
          "output_type": "execute_result",
          "data": {
            "text/plain": [
              "Int64Index([322, 2504, 5226, 6961, 2313], dtype='int64')"
            ]
          },
          "metadata": {
            "tags": []
          },
          "execution_count": 98
        }
      ]
    },
    {
      "cell_type": "code",
      "metadata": {
        "colab": {
          "base_uri": "https://localhost:8080/",
          "height": 476
        },
        "id": "v3VjMC2asL31",
        "outputId": "00f4dd2a-4896-4996-dd1c-167c9071ce6e"
      },
      "source": [
        "df_netflix.head()"
      ],
      "execution_count": null,
      "outputs": [
        {
          "output_type": "execute_result",
          "data": {
            "text/html": [
              "<div>\n",
              "<style scoped>\n",
              "    .dataframe tbody tr th:only-of-type {\n",
              "        vertical-align: middle;\n",
              "    }\n",
              "\n",
              "    .dataframe tbody tr th {\n",
              "        vertical-align: top;\n",
              "    }\n",
              "\n",
              "    .dataframe thead th {\n",
              "        text-align: right;\n",
              "    }\n",
              "</style>\n",
              "<table border=\"1\" class=\"dataframe\">\n",
              "  <thead>\n",
              "    <tr style=\"text-align: right;\">\n",
              "      <th></th>\n",
              "      <th>show_id</th>\n",
              "      <th>type</th>\n",
              "      <th>title</th>\n",
              "      <th>director</th>\n",
              "      <th>cast</th>\n",
              "      <th>country</th>\n",
              "      <th>date_added</th>\n",
              "      <th>release_year</th>\n",
              "      <th>rating</th>\n",
              "      <th>duration</th>\n",
              "      <th>listed_in</th>\n",
              "      <th>description</th>\n",
              "      <th>num_cast</th>\n",
              "      <th>primary_genre</th>\n",
              "    </tr>\n",
              "  </thead>\n",
              "  <tbody>\n",
              "    <tr>\n",
              "      <th>0</th>\n",
              "      <td>s1</td>\n",
              "      <td>TV Show</td>\n",
              "      <td>3%</td>\n",
              "      <td>NaN</td>\n",
              "      <td>João Miguel, Bianca Comparato, Michel Gomes, R...</td>\n",
              "      <td>Brazil</td>\n",
              "      <td>August 14, 2020</td>\n",
              "      <td>2020</td>\n",
              "      <td>TV-MA</td>\n",
              "      <td>4 Seasons</td>\n",
              "      <td>International TV Shows, TV Dramas, TV Sci-Fi &amp;...</td>\n",
              "      <td>In a future where the elite inhabit an island ...</td>\n",
              "      <td>11</td>\n",
              "      <td>International TV Shows</td>\n",
              "    </tr>\n",
              "    <tr>\n",
              "      <th>1</th>\n",
              "      <td>s2</td>\n",
              "      <td>Movie</td>\n",
              "      <td>7:19</td>\n",
              "      <td>Jorge Michel Grau</td>\n",
              "      <td>Demián Bichir, Héctor Bonilla, Oscar Serrano, ...</td>\n",
              "      <td>Mexico</td>\n",
              "      <td>December 23, 2016</td>\n",
              "      <td>2016</td>\n",
              "      <td>TV-MA</td>\n",
              "      <td>93 min</td>\n",
              "      <td>Dramas, International Movies</td>\n",
              "      <td>After a devastating earthquake hits Mexico Cit...</td>\n",
              "      <td>6</td>\n",
              "      <td>Dramas</td>\n",
              "    </tr>\n",
              "    <tr>\n",
              "      <th>2</th>\n",
              "      <td>s3</td>\n",
              "      <td>Movie</td>\n",
              "      <td>23:59</td>\n",
              "      <td>Gilbert Chan</td>\n",
              "      <td>Tedd Chan, Stella Chung, Henley Hii, Lawrence ...</td>\n",
              "      <td>Singapore</td>\n",
              "      <td>December 20, 2018</td>\n",
              "      <td>2011</td>\n",
              "      <td>R</td>\n",
              "      <td>78 min</td>\n",
              "      <td>Horror Movies, International Movies</td>\n",
              "      <td>When an army recruit is found dead, his fellow...</td>\n",
              "      <td>9</td>\n",
              "      <td>Horror Movies</td>\n",
              "    </tr>\n",
              "    <tr>\n",
              "      <th>3</th>\n",
              "      <td>s4</td>\n",
              "      <td>Movie</td>\n",
              "      <td>9</td>\n",
              "      <td>Shane Acker</td>\n",
              "      <td>Elijah Wood, John C. Reilly, Jennifer Connelly...</td>\n",
              "      <td>United States</td>\n",
              "      <td>November 16, 2017</td>\n",
              "      <td>2009</td>\n",
              "      <td>PG-13</td>\n",
              "      <td>80 min</td>\n",
              "      <td>Action &amp; Adventure, Independent Movies, Sci-Fi...</td>\n",
              "      <td>In a postapocalyptic world, rag-doll robots hi...</td>\n",
              "      <td>9</td>\n",
              "      <td>Action &amp; Adventure</td>\n",
              "    </tr>\n",
              "    <tr>\n",
              "      <th>4</th>\n",
              "      <td>s5</td>\n",
              "      <td>Movie</td>\n",
              "      <td>21</td>\n",
              "      <td>Robert Luketic</td>\n",
              "      <td>Jim Sturgess, Kevin Spacey, Kate Bosworth, Aar...</td>\n",
              "      <td>United States</td>\n",
              "      <td>January 1, 2020</td>\n",
              "      <td>2008</td>\n",
              "      <td>PG-13</td>\n",
              "      <td>123 min</td>\n",
              "      <td>Dramas</td>\n",
              "      <td>A brilliant group of students become card-coun...</td>\n",
              "      <td>12</td>\n",
              "      <td>Dramas</td>\n",
              "    </tr>\n",
              "  </tbody>\n",
              "</table>\n",
              "</div>"
            ],
            "text/plain": [
              "  show_id     type  title           director                                               cast        country         date_added  release_year rating   duration                                          listed_in                                        description  num_cast           primary_genre\n",
              "0      s1  TV Show     3%                NaN  João Miguel, Bianca Comparato, Michel Gomes, R...         Brazil    August 14, 2020          2020  TV-MA  4 Seasons  International TV Shows, TV Dramas, TV Sci-Fi &...  In a future where the elite inhabit an island ...        11  International TV Shows\n",
              "1      s2    Movie   7:19  Jorge Michel Grau  Demián Bichir, Héctor Bonilla, Oscar Serrano, ...         Mexico  December 23, 2016          2016  TV-MA     93 min                       Dramas, International Movies  After a devastating earthquake hits Mexico Cit...         6                  Dramas\n",
              "2      s3    Movie  23:59       Gilbert Chan  Tedd Chan, Stella Chung, Henley Hii, Lawrence ...      Singapore  December 20, 2018          2011      R     78 min                Horror Movies, International Movies  When an army recruit is found dead, his fellow...         9           Horror Movies\n",
              "3      s4    Movie      9        Shane Acker  Elijah Wood, John C. Reilly, Jennifer Connelly...  United States  November 16, 2017          2009  PG-13     80 min  Action & Adventure, Independent Movies, Sci-Fi...  In a postapocalyptic world, rag-doll robots hi...         9      Action & Adventure\n",
              "4      s5    Movie     21     Robert Luketic  Jim Sturgess, Kevin Spacey, Kate Bosworth, Aar...  United States    January 1, 2020          2008  PG-13    123 min                                             Dramas  A brilliant group of students become card-coun...        12                  Dramas"
            ]
          },
          "metadata": {
            "tags": []
          },
          "execution_count": 88
        }
      ]
    },
    {
      "cell_type": "code",
      "metadata": {
        "colab": {
          "base_uri": "https://localhost:8080/"
        },
        "id": "44JoC3Amm-du",
        "outputId": "37fd42f7-3a2d-4219-bb3a-a00f7fa9a9f2"
      },
      "source": [
        "df_netflix.isnull().sum()"
      ],
      "execution_count": null,
      "outputs": [
        {
          "output_type": "execute_result",
          "data": {
            "text/plain": [
              "show_id             0\n",
              "type                0\n",
              "title               0\n",
              "director         2389\n",
              "cast              718\n",
              "country           507\n",
              "date_added         10\n",
              "release_year        0\n",
              "rating              7\n",
              "duration            0\n",
              "listed_in           0\n",
              "description         0\n",
              "num_cast            0\n",
              "primary_genre       0\n",
              "dtype: int64"
            ]
          },
          "metadata": {
            "tags": []
          },
          "execution_count": 87
        }
      ]
    },
    {
      "cell_type": "markdown",
      "metadata": {
        "id": "su2i73tL1KPc"
      },
      "source": [
        "####11. Number of TV Shows whose title starts and ends with a H (or h)? "
      ]
    },
    {
      "cell_type": "code",
      "metadata": {
        "colab": {
          "base_uri": "https://localhost:8080/",
          "height": 1000
        },
        "id": "R2BwLVGt2eSB",
        "outputId": "22390059-e0ca-478e-929f-d7c2e43b30ec"
      },
      "source": [
        "#df_netflix['title'][0][0]\n",
        "df_netflix[ ((df_netflix['title'].str.startswith('H')) |  (df_netflix['title'].str.startswith('h'))) & ((df_netflix['title'].str.endswith('H')) |  (df_netflix['title'].str.endswith('h'))) ]"
      ],
      "execution_count": null,
      "outputs": [
        {
          "output_type": "execute_result",
          "data": {
            "text/html": [
              "<div>\n",
              "<style scoped>\n",
              "    .dataframe tbody tr th:only-of-type {\n",
              "        vertical-align: middle;\n",
              "    }\n",
              "\n",
              "    .dataframe tbody tr th {\n",
              "        vertical-align: top;\n",
              "    }\n",
              "\n",
              "    .dataframe thead th {\n",
              "        text-align: right;\n",
              "    }\n",
              "</style>\n",
              "<table border=\"1\" class=\"dataframe\">\n",
              "  <thead>\n",
              "    <tr style=\"text-align: right;\">\n",
              "      <th></th>\n",
              "      <th>show_id</th>\n",
              "      <th>type</th>\n",
              "      <th>title</th>\n",
              "      <th>director</th>\n",
              "      <th>cast</th>\n",
              "      <th>country</th>\n",
              "      <th>date_added</th>\n",
              "      <th>release_year</th>\n",
              "      <th>rating</th>\n",
              "      <th>duration</th>\n",
              "      <th>listed_in</th>\n",
              "      <th>description</th>\n",
              "      <th>num_cast</th>\n",
              "      <th>primary_genre</th>\n",
              "    </tr>\n",
              "  </thead>\n",
              "  <tbody>\n",
              "    <tr>\n",
              "      <th>2563</th>\n",
              "      <td>s2564</td>\n",
              "      <td>TV Show</td>\n",
              "      <td>H</td>\n",
              "      <td>NaN</td>\n",
              "      <td>Jamel Debbouze, Éric Judor, Ramzy Bedia, Cathe...</td>\n",
              "      <td>France</td>\n",
              "      <td>September 1, 2020</td>\n",
              "      <td>2002</td>\n",
              "      <td>TV-MA</td>\n",
              "      <td>4 Seasons</td>\n",
              "      <td>International TV Shows, TV Comedies</td>\n",
              "      <td>At a dysfunctional hospital in Paris, three bu...</td>\n",
              "      <td>6</td>\n",
              "      <td>International TV Shows</td>\n",
              "    </tr>\n",
              "    <tr>\n",
              "      <th>2574</th>\n",
              "      <td>s2575</td>\n",
              "      <td>Movie</td>\n",
              "      <td>Hadi İnşallah</td>\n",
              "      <td>Ali Taner Baltacı</td>\n",
              "      <td>Büşra Pekin, Murat Boz, Cezmi Baskın, Şinasi Y...</td>\n",
              "      <td>Turkey</td>\n",
              "      <td>April 4, 2018</td>\n",
              "      <td>2014</td>\n",
              "      <td>TV-14</td>\n",
              "      <td>95 min</td>\n",
              "      <td>Comedies, International Movies, Romantic Movies</td>\n",
              "      <td>A young woman recovering poorly from a bad rom...</td>\n",
              "      <td>10</td>\n",
              "      <td>Comedies</td>\n",
              "    </tr>\n",
              "    <tr>\n",
              "      <th>2586</th>\n",
              "      <td>s2587</td>\n",
              "      <td>Movie</td>\n",
              "      <td>Halo: The Fall of Reach</td>\n",
              "      <td>Ian Kirby</td>\n",
              "      <td>Jen Taylor, Steve Downes, Michelle Lukes, Brit...</td>\n",
              "      <td>United States</td>\n",
              "      <td>March 7, 2016</td>\n",
              "      <td>2015</td>\n",
              "      <td>TV-14</td>\n",
              "      <td>65 min</td>\n",
              "      <td>Action &amp; Adventure, Sci-Fi &amp; Fantasy</td>\n",
              "      <td>Witness the origins of Master Chief and the Sp...</td>\n",
              "      <td>8</td>\n",
              "      <td>Action &amp; Adventure</td>\n",
              "    </tr>\n",
              "    <tr>\n",
              "      <th>2604</th>\n",
              "      <td>s2605</td>\n",
              "      <td>Movie</td>\n",
              "      <td>Hantu Kak Limah</td>\n",
              "      <td>Mamat Khalid</td>\n",
              "      <td>Awie, Arab Khalid, Sharwani Ns, Tj Isa, Delima...</td>\n",
              "      <td>Malaysia</td>\n",
              "      <td>January 31, 2019</td>\n",
              "      <td>2018</td>\n",
              "      <td>TV-PG</td>\n",
              "      <td>110 min</td>\n",
              "      <td>Comedies, Horror Movies, International Movies</td>\n",
              "      <td>When Kak Limah turns up dead shortly after her...</td>\n",
              "      <td>8</td>\n",
              "      <td>Comedies</td>\n",
              "    </tr>\n",
              "    <tr>\n",
              "      <th>2618</th>\n",
              "      <td>s2619</td>\n",
              "      <td>TV Show</td>\n",
              "      <td>Happyish</td>\n",
              "      <td>NaN</td>\n",
              "      <td>Steve Coogan, Kathryn Hahn, Sawyer Shipman, Br...</td>\n",
              "      <td>United States</td>\n",
              "      <td>July 1, 2016</td>\n",
              "      <td>2015</td>\n",
              "      <td>TV-MA</td>\n",
              "      <td>1 Season</td>\n",
              "      <td>TV Comedies, TV Dramas</td>\n",
              "      <td>A middle-aged adman is shaken up by his new bo...</td>\n",
              "      <td>4</td>\n",
              "      <td>TV Comedies</td>\n",
              "    </tr>\n",
              "    <tr>\n",
              "      <th>2645</th>\n",
              "      <td>s2646</td>\n",
              "      <td>TV Show</td>\n",
              "      <td>Hasmukh</td>\n",
              "      <td>NaN</td>\n",
              "      <td>Vir Das, Ranvir Shorey, Manoj Pahwa, Ravi Kish...</td>\n",
              "      <td>India</td>\n",
              "      <td>April 17, 2020</td>\n",
              "      <td>2020</td>\n",
              "      <td>TV-MA</td>\n",
              "      <td>1 Season</td>\n",
              "      <td>Crime TV Shows, International TV Shows, TV Com...</td>\n",
              "      <td>A timid, small-town comedian's long-awaited bi...</td>\n",
              "      <td>8</td>\n",
              "      <td>Crime TV Shows</td>\n",
              "    </tr>\n",
              "    <tr>\n",
              "      <th>2676</th>\n",
              "      <td>s2677</td>\n",
              "      <td>TV Show</td>\n",
              "      <td>Heartbreak High</td>\n",
              "      <td>NaN</td>\n",
              "      <td>Callan Mulvey, Lara Cox, Emma Roche, Ada Nicod...</td>\n",
              "      <td>Australia</td>\n",
              "      <td>November 27, 2020</td>\n",
              "      <td>1999</td>\n",
              "      <td>TV-14</td>\n",
              "      <td>7 Seasons</td>\n",
              "      <td>International TV Shows, TV Dramas, Teen TV Shows</td>\n",
              "      <td>A crash course on the turbulence of being a te...</td>\n",
              "      <td>47</td>\n",
              "      <td>International TV Shows</td>\n",
              "    </tr>\n",
              "    <tr>\n",
              "      <th>2756</th>\n",
              "      <td>s2757</td>\n",
              "      <td>Movie</td>\n",
              "      <td>Hitch</td>\n",
              "      <td>Andy Tennant</td>\n",
              "      <td>Will Smith, Eva Mendes, Kevin James, Amber Val...</td>\n",
              "      <td>United States</td>\n",
              "      <td>January 1, 2020</td>\n",
              "      <td>2005</td>\n",
              "      <td>PG-13</td>\n",
              "      <td>118 min</td>\n",
              "      <td>Comedies, Romantic Movies</td>\n",
              "      <td>Smooth and sexy Hitch helps clients make a gre...</td>\n",
              "      <td>10</td>\n",
              "      <td>Comedies</td>\n",
              "    </tr>\n",
              "    <tr>\n",
              "      <th>2773</th>\n",
              "      <td>s2774</td>\n",
              "      <td>Movie</td>\n",
              "      <td>Holiday Rush</td>\n",
              "      <td>Leslie Small</td>\n",
              "      <td>Romany Malco, Sonequa Martin-Green, Darlene Lo...</td>\n",
              "      <td>United States</td>\n",
              "      <td>November 28, 2019</td>\n",
              "      <td>2019</td>\n",
              "      <td>TV-PG</td>\n",
              "      <td>94 min</td>\n",
              "      <td>Children &amp; Family Movies, Dramas</td>\n",
              "      <td>A widowed radio DJ and his four spoiled kids n...</td>\n",
              "      <td>9</td>\n",
              "      <td>Children &amp; Family Movies</td>\n",
              "    </tr>\n",
              "    <tr>\n",
              "      <th>2788</th>\n",
              "      <td>s2789</td>\n",
              "      <td>TV Show</td>\n",
              "      <td>Home: Adventures with Tip &amp; Oh</td>\n",
              "      <td>NaN</td>\n",
              "      <td>Rachel Crow, Mark Whitten, Ana Ortiz, Ron Func...</td>\n",
              "      <td>United States</td>\n",
              "      <td>July 20, 2018</td>\n",
              "      <td>2018</td>\n",
              "      <td>TV-Y7</td>\n",
              "      <td>4 Seasons</td>\n",
              "      <td>Kids' TV, TV Comedies</td>\n",
              "      <td>A misfit alien named Oh moves in with Tip and ...</td>\n",
              "      <td>6</td>\n",
              "      <td>Kids' TV</td>\n",
              "    </tr>\n",
              "    <tr>\n",
              "      <th>2833</th>\n",
              "      <td>s2834</td>\n",
              "      <td>Movie</td>\n",
              "      <td>House of the Witch</td>\n",
              "      <td>Alex Merkin</td>\n",
              "      <td>Emily Bader, Darren Mann, Michelle Randolph, C...</td>\n",
              "      <td>United States</td>\n",
              "      <td>October 11, 2020</td>\n",
              "      <td>2017</td>\n",
              "      <td>TV-MA</td>\n",
              "      <td>86 min</td>\n",
              "      <td>Horror Movies</td>\n",
              "      <td>A group of daring teens finds themselves in a ...</td>\n",
              "      <td>8</td>\n",
              "      <td>Horror Movies</td>\n",
              "    </tr>\n",
              "    <tr>\n",
              "      <th>2854</th>\n",
              "      <td>s2855</td>\n",
              "      <td>Movie</td>\n",
              "      <td>Hridaynath</td>\n",
              "      <td>Amar Gupte</td>\n",
              "      <td>Jackie Shroff, Aditya Pancholi, Swarangi Mahar...</td>\n",
              "      <td>India</td>\n",
              "      <td>January 1, 2018</td>\n",
              "      <td>2012</td>\n",
              "      <td>TV-14</td>\n",
              "      <td>103 min</td>\n",
              "      <td>Dramas, International Movies</td>\n",
              "      <td>A schoolteacher known for his good deeds and b...</td>\n",
              "      <td>5</td>\n",
              "      <td>Dramas</td>\n",
              "    </tr>\n",
              "    <tr>\n",
              "      <th>2877</th>\n",
              "      <td>s2878</td>\n",
              "      <td>Movie</td>\n",
              "      <td>Hush</td>\n",
              "      <td>Mike Flanagan</td>\n",
              "      <td>John Gallagher Jr., Kate Siegel, Michael Trucc...</td>\n",
              "      <td>United States</td>\n",
              "      <td>April 8, 2016</td>\n",
              "      <td>2016</td>\n",
              "      <td>R</td>\n",
              "      <td>82 min</td>\n",
              "      <td>Horror Movies, Thrillers</td>\n",
              "      <td>A deaf writer who retreated into the woods to ...</td>\n",
              "      <td>5</td>\n",
              "      <td>Horror Movies</td>\n",
              "    </tr>\n",
              "    <tr>\n",
              "      <th>2880</th>\n",
              "      <td>s2881</td>\n",
              "      <td>TV Show</td>\n",
              "      <td>Hymn of Death</td>\n",
              "      <td>NaN</td>\n",
              "      <td>Lee Jong-suk, Shin Hye-sun, Kim Myeong-su, Par...</td>\n",
              "      <td>South Korea</td>\n",
              "      <td>December 14, 2018</td>\n",
              "      <td>2018</td>\n",
              "      <td>TV-14</td>\n",
              "      <td>1 Season</td>\n",
              "      <td>International TV Shows, Korean TV Shows, Roman...</td>\n",
              "      <td>During the Japanese colonial period, married p...</td>\n",
              "      <td>9</td>\n",
              "      <td>International TV Shows</td>\n",
              "    </tr>\n",
              "  </tbody>\n",
              "</table>\n",
              "</div>"
            ],
            "text/plain": [
              "     show_id     type                           title           director                                               cast        country         date_added  release_year rating   duration                                          listed_in                                        description  num_cast             primary_genre\n",
              "2563   s2564  TV Show                               H                NaN  Jamel Debbouze, Éric Judor, Ramzy Bedia, Cathe...         France  September 1, 2020          2002  TV-MA  4 Seasons                International TV Shows, TV Comedies  At a dysfunctional hospital in Paris, three bu...         6    International TV Shows\n",
              "2574   s2575    Movie                   Hadi İnşallah  Ali Taner Baltacı  Büşra Pekin, Murat Boz, Cezmi Baskın, Şinasi Y...         Turkey      April 4, 2018          2014  TV-14     95 min    Comedies, International Movies, Romantic Movies  A young woman recovering poorly from a bad rom...        10                  Comedies\n",
              "2586   s2587    Movie         Halo: The Fall of Reach          Ian Kirby  Jen Taylor, Steve Downes, Michelle Lukes, Brit...  United States      March 7, 2016          2015  TV-14     65 min               Action & Adventure, Sci-Fi & Fantasy  Witness the origins of Master Chief and the Sp...         8        Action & Adventure\n",
              "2604   s2605    Movie                 Hantu Kak Limah       Mamat Khalid  Awie, Arab Khalid, Sharwani Ns, Tj Isa, Delima...       Malaysia   January 31, 2019          2018  TV-PG    110 min      Comedies, Horror Movies, International Movies  When Kak Limah turns up dead shortly after her...         8                  Comedies\n",
              "2618   s2619  TV Show                        Happyish                NaN  Steve Coogan, Kathryn Hahn, Sawyer Shipman, Br...  United States       July 1, 2016          2015  TV-MA   1 Season                             TV Comedies, TV Dramas  A middle-aged adman is shaken up by his new bo...         4               TV Comedies\n",
              "2645   s2646  TV Show                         Hasmukh                NaN  Vir Das, Ranvir Shorey, Manoj Pahwa, Ravi Kish...          India     April 17, 2020          2020  TV-MA   1 Season  Crime TV Shows, International TV Shows, TV Com...  A timid, small-town comedian's long-awaited bi...         8            Crime TV Shows\n",
              "2676   s2677  TV Show                 Heartbreak High                NaN  Callan Mulvey, Lara Cox, Emma Roche, Ada Nicod...      Australia  November 27, 2020          1999  TV-14  7 Seasons   International TV Shows, TV Dramas, Teen TV Shows  A crash course on the turbulence of being a te...        47    International TV Shows\n",
              "2756   s2757    Movie                           Hitch       Andy Tennant  Will Smith, Eva Mendes, Kevin James, Amber Val...  United States    January 1, 2020          2005  PG-13    118 min                          Comedies, Romantic Movies  Smooth and sexy Hitch helps clients make a gre...        10                  Comedies\n",
              "2773   s2774    Movie                    Holiday Rush       Leslie Small  Romany Malco, Sonequa Martin-Green, Darlene Lo...  United States  November 28, 2019          2019  TV-PG     94 min                   Children & Family Movies, Dramas  A widowed radio DJ and his four spoiled kids n...         9  Children & Family Movies\n",
              "2788   s2789  TV Show  Home: Adventures with Tip & Oh                NaN  Rachel Crow, Mark Whitten, Ana Ortiz, Ron Func...  United States      July 20, 2018          2018  TV-Y7  4 Seasons                              Kids' TV, TV Comedies  A misfit alien named Oh moves in with Tip and ...         6                  Kids' TV\n",
              "2833   s2834    Movie              House of the Witch        Alex Merkin  Emily Bader, Darren Mann, Michelle Randolph, C...  United States   October 11, 2020          2017  TV-MA     86 min                                      Horror Movies  A group of daring teens finds themselves in a ...         8             Horror Movies\n",
              "2854   s2855    Movie                      Hridaynath         Amar Gupte  Jackie Shroff, Aditya Pancholi, Swarangi Mahar...          India    January 1, 2018          2012  TV-14    103 min                       Dramas, International Movies  A schoolteacher known for his good deeds and b...         5                    Dramas\n",
              "2877   s2878    Movie                            Hush      Mike Flanagan  John Gallagher Jr., Kate Siegel, Michael Trucc...  United States      April 8, 2016          2016      R     82 min                           Horror Movies, Thrillers  A deaf writer who retreated into the woods to ...         5             Horror Movies\n",
              "2880   s2881  TV Show                   Hymn of Death                NaN  Lee Jong-suk, Shin Hye-sun, Kim Myeong-su, Par...    South Korea  December 14, 2018          2018  TV-14   1 Season  International TV Shows, Korean TV Shows, Roman...  During the Japanese colonial period, married p...         9    International TV Shows"
            ]
          },
          "metadata": {
            "tags": []
          },
          "execution_count": 122
        }
      ]
    },
    {
      "cell_type": "code",
      "metadata": {
        "colab": {
          "base_uri": "https://localhost:8080/",
          "height": 561
        },
        "id": "QHSVQcrX2A85",
        "outputId": "30036eb8-14ec-4f2f-dedd-74b9575042bd"
      },
      "source": [
        "df_netflix[(df_netflix['title'][0]=='H') & (df_netflix['title'][0]=='h')]"
      ],
      "execution_count": null,
      "outputs": [
        {
          "output_type": "error",
          "ename": "KeyError",
          "evalue": "ignored",
          "traceback": [
            "\u001b[0;31m---------------------------------------------------------------------------\u001b[0m",
            "\u001b[0;31mKeyError\u001b[0m                                  Traceback (most recent call last)",
            "\u001b[0;32m/usr/local/lib/python3.7/dist-packages/pandas/core/indexes/base.py\u001b[0m in \u001b[0;36mget_loc\u001b[0;34m(self, key, method, tolerance)\u001b[0m\n\u001b[1;32m   2897\u001b[0m             \u001b[0;32mtry\u001b[0m\u001b[0;34m:\u001b[0m\u001b[0;34m\u001b[0m\u001b[0;34m\u001b[0m\u001b[0m\n\u001b[0;32m-> 2898\u001b[0;31m                 \u001b[0;32mreturn\u001b[0m \u001b[0mself\u001b[0m\u001b[0;34m.\u001b[0m\u001b[0m_engine\u001b[0m\u001b[0;34m.\u001b[0m\u001b[0mget_loc\u001b[0m\u001b[0;34m(\u001b[0m\u001b[0mcasted_key\u001b[0m\u001b[0;34m)\u001b[0m\u001b[0;34m\u001b[0m\u001b[0;34m\u001b[0m\u001b[0m\n\u001b[0m\u001b[1;32m   2899\u001b[0m             \u001b[0;32mexcept\u001b[0m \u001b[0mKeyError\u001b[0m \u001b[0;32mas\u001b[0m \u001b[0merr\u001b[0m\u001b[0;34m:\u001b[0m\u001b[0;34m\u001b[0m\u001b[0;34m\u001b[0m\u001b[0m\n",
            "\u001b[0;32mpandas/_libs/index.pyx\u001b[0m in \u001b[0;36mpandas._libs.index.IndexEngine.get_loc\u001b[0;34m()\u001b[0m\n",
            "\u001b[0;32mpandas/_libs/index.pyx\u001b[0m in \u001b[0;36mpandas._libs.index.IndexEngine.get_loc\u001b[0;34m()\u001b[0m\n",
            "\u001b[0;32mpandas/_libs/hashtable_class_helper.pxi\u001b[0m in \u001b[0;36mpandas._libs.hashtable.PyObjectHashTable.get_item\u001b[0;34m()\u001b[0m\n",
            "\u001b[0;32mpandas/_libs/hashtable_class_helper.pxi\u001b[0m in \u001b[0;36mpandas._libs.hashtable.PyObjectHashTable.get_item\u001b[0;34m()\u001b[0m\n",
            "\u001b[0;31mKeyError\u001b[0m: False",
            "\nThe above exception was the direct cause of the following exception:\n",
            "\u001b[0;31mKeyError\u001b[0m                                  Traceback (most recent call last)",
            "\u001b[0;32m<ipython-input-112-a107cbff7af1>\u001b[0m in \u001b[0;36m<module>\u001b[0;34m()\u001b[0m\n\u001b[0;32m----> 1\u001b[0;31m \u001b[0mdf_netflix\u001b[0m\u001b[0;34m[\u001b[0m\u001b[0;34m(\u001b[0m\u001b[0mdf_netflix\u001b[0m\u001b[0;34m[\u001b[0m\u001b[0;34m'title'\u001b[0m\u001b[0;34m]\u001b[0m\u001b[0;34m[\u001b[0m\u001b[0;36m0\u001b[0m\u001b[0;34m]\u001b[0m\u001b[0;34m==\u001b[0m\u001b[0;34m'H'\u001b[0m\u001b[0;34m)\u001b[0m \u001b[0;34m&\u001b[0m \u001b[0;34m(\u001b[0m\u001b[0mdf_netflix\u001b[0m\u001b[0;34m[\u001b[0m\u001b[0;34m'title'\u001b[0m\u001b[0;34m]\u001b[0m\u001b[0;34m[\u001b[0m\u001b[0;36m0\u001b[0m\u001b[0;34m]\u001b[0m\u001b[0;34m==\u001b[0m\u001b[0;34m'h'\u001b[0m\u001b[0;34m)\u001b[0m\u001b[0;34m]\u001b[0m\u001b[0;34m\u001b[0m\u001b[0;34m\u001b[0m\u001b[0m\n\u001b[0m",
            "\u001b[0;32m/usr/local/lib/python3.7/dist-packages/pandas/core/frame.py\u001b[0m in \u001b[0;36m__getitem__\u001b[0;34m(self, key)\u001b[0m\n\u001b[1;32m   2904\u001b[0m             \u001b[0;32mif\u001b[0m \u001b[0mself\u001b[0m\u001b[0;34m.\u001b[0m\u001b[0mcolumns\u001b[0m\u001b[0;34m.\u001b[0m\u001b[0mnlevels\u001b[0m \u001b[0;34m>\u001b[0m \u001b[0;36m1\u001b[0m\u001b[0;34m:\u001b[0m\u001b[0;34m\u001b[0m\u001b[0;34m\u001b[0m\u001b[0m\n\u001b[1;32m   2905\u001b[0m                 \u001b[0;32mreturn\u001b[0m \u001b[0mself\u001b[0m\u001b[0;34m.\u001b[0m\u001b[0m_getitem_multilevel\u001b[0m\u001b[0;34m(\u001b[0m\u001b[0mkey\u001b[0m\u001b[0;34m)\u001b[0m\u001b[0;34m\u001b[0m\u001b[0;34m\u001b[0m\u001b[0m\n\u001b[0;32m-> 2906\u001b[0;31m             \u001b[0mindexer\u001b[0m \u001b[0;34m=\u001b[0m \u001b[0mself\u001b[0m\u001b[0;34m.\u001b[0m\u001b[0mcolumns\u001b[0m\u001b[0;34m.\u001b[0m\u001b[0mget_loc\u001b[0m\u001b[0;34m(\u001b[0m\u001b[0mkey\u001b[0m\u001b[0;34m)\u001b[0m\u001b[0;34m\u001b[0m\u001b[0;34m\u001b[0m\u001b[0m\n\u001b[0m\u001b[1;32m   2907\u001b[0m             \u001b[0;32mif\u001b[0m \u001b[0mis_integer\u001b[0m\u001b[0;34m(\u001b[0m\u001b[0mindexer\u001b[0m\u001b[0;34m)\u001b[0m\u001b[0;34m:\u001b[0m\u001b[0;34m\u001b[0m\u001b[0;34m\u001b[0m\u001b[0m\n\u001b[1;32m   2908\u001b[0m                 \u001b[0mindexer\u001b[0m \u001b[0;34m=\u001b[0m \u001b[0;34m[\u001b[0m\u001b[0mindexer\u001b[0m\u001b[0;34m]\u001b[0m\u001b[0;34m\u001b[0m\u001b[0;34m\u001b[0m\u001b[0m\n",
            "\u001b[0;32m/usr/local/lib/python3.7/dist-packages/pandas/core/indexes/base.py\u001b[0m in \u001b[0;36mget_loc\u001b[0;34m(self, key, method, tolerance)\u001b[0m\n\u001b[1;32m   2898\u001b[0m                 \u001b[0;32mreturn\u001b[0m \u001b[0mself\u001b[0m\u001b[0;34m.\u001b[0m\u001b[0m_engine\u001b[0m\u001b[0;34m.\u001b[0m\u001b[0mget_loc\u001b[0m\u001b[0;34m(\u001b[0m\u001b[0mcasted_key\u001b[0m\u001b[0;34m)\u001b[0m\u001b[0;34m\u001b[0m\u001b[0;34m\u001b[0m\u001b[0m\n\u001b[1;32m   2899\u001b[0m             \u001b[0;32mexcept\u001b[0m \u001b[0mKeyError\u001b[0m \u001b[0;32mas\u001b[0m \u001b[0merr\u001b[0m\u001b[0;34m:\u001b[0m\u001b[0;34m\u001b[0m\u001b[0;34m\u001b[0m\u001b[0m\n\u001b[0;32m-> 2900\u001b[0;31m                 \u001b[0;32mraise\u001b[0m \u001b[0mKeyError\u001b[0m\u001b[0;34m(\u001b[0m\u001b[0mkey\u001b[0m\u001b[0;34m)\u001b[0m \u001b[0;32mfrom\u001b[0m \u001b[0merr\u001b[0m\u001b[0;34m\u001b[0m\u001b[0;34m\u001b[0m\u001b[0m\n\u001b[0m\u001b[1;32m   2901\u001b[0m \u001b[0;34m\u001b[0m\u001b[0m\n\u001b[1;32m   2902\u001b[0m         \u001b[0;32mif\u001b[0m \u001b[0mtolerance\u001b[0m \u001b[0;32mis\u001b[0m \u001b[0;32mnot\u001b[0m \u001b[0;32mNone\u001b[0m\u001b[0;34m:\u001b[0m\u001b[0;34m\u001b[0m\u001b[0;34m\u001b[0m\u001b[0m\n",
            "\u001b[0;31mKeyError\u001b[0m: False"
          ]
        }
      ]
    },
    {
      "cell_type": "markdown",
      "metadata": {
        "id": "dJx1iXq8QSZV"
      },
      "source": [
        "#### 15. How many Horror Movies have been released after 2015? \n",
        "\n",
        "Note: You need to remove Null values to get the correct answer. "
      ]
    },
    {
      "cell_type": "code",
      "metadata": {
        "colab": {
          "base_uri": "https://localhost:8080/"
        },
        "id": "ZHO247KuRYrV",
        "outputId": "c511ee93-0b95-496b-92b3-fb6379f231f9"
      },
      "source": [
        "df_netflix['primary_genre'].isnull().sum()"
      ],
      "execution_count": null,
      "outputs": [
        {
          "output_type": "execute_result",
          "data": {
            "text/plain": [
              "0"
            ]
          },
          "metadata": {
            "tags": []
          },
          "execution_count": 180
        }
      ]
    },
    {
      "cell_type": "code",
      "metadata": {
        "colab": {
          "base_uri": "https://localhost:8080/",
          "height": 297
        },
        "id": "xUoPucKaQ4XJ",
        "outputId": "0d05e6de-9b96-474f-977e-ab793d922dac"
      },
      "source": [
        "df_netflix[(df_netflix['primary_genre'] == 'Horror Movies') & (df_netflix['release_year']>2015)].describe()"
      ],
      "execution_count": null,
      "outputs": [
        {
          "output_type": "execute_result",
          "data": {
            "text/html": [
              "<div>\n",
              "<style scoped>\n",
              "    .dataframe tbody tr th:only-of-type {\n",
              "        vertical-align: middle;\n",
              "    }\n",
              "\n",
              "    .dataframe tbody tr th {\n",
              "        vertical-align: top;\n",
              "    }\n",
              "\n",
              "    .dataframe thead th {\n",
              "        text-align: right;\n",
              "    }\n",
              "</style>\n",
              "<table border=\"1\" class=\"dataframe\">\n",
              "  <thead>\n",
              "    <tr style=\"text-align: right;\">\n",
              "      <th></th>\n",
              "      <th>release_year</th>\n",
              "      <th>num_cast</th>\n",
              "    </tr>\n",
              "  </thead>\n",
              "  <tbody>\n",
              "    <tr>\n",
              "      <th>count</th>\n",
              "      <td>156.000000</td>\n",
              "      <td>156.000000</td>\n",
              "    </tr>\n",
              "    <tr>\n",
              "      <th>mean</th>\n",
              "      <td>2017.858974</td>\n",
              "      <td>7.884615</td>\n",
              "    </tr>\n",
              "    <tr>\n",
              "      <th>std</th>\n",
              "      <td>1.277340</td>\n",
              "      <td>2.352655</td>\n",
              "    </tr>\n",
              "    <tr>\n",
              "      <th>min</th>\n",
              "      <td>2016.000000</td>\n",
              "      <td>2.000000</td>\n",
              "    </tr>\n",
              "    <tr>\n",
              "      <th>25%</th>\n",
              "      <td>2017.000000</td>\n",
              "      <td>6.000000</td>\n",
              "    </tr>\n",
              "    <tr>\n",
              "      <th>50%</th>\n",
              "      <td>2018.000000</td>\n",
              "      <td>8.000000</td>\n",
              "    </tr>\n",
              "    <tr>\n",
              "      <th>75%</th>\n",
              "      <td>2019.000000</td>\n",
              "      <td>10.000000</td>\n",
              "    </tr>\n",
              "    <tr>\n",
              "      <th>max</th>\n",
              "      <td>2020.000000</td>\n",
              "      <td>16.000000</td>\n",
              "    </tr>\n",
              "  </tbody>\n",
              "</table>\n",
              "</div>"
            ],
            "text/plain": [
              "       release_year    num_cast\n",
              "count    156.000000  156.000000\n",
              "mean    2017.858974    7.884615\n",
              "std        1.277340    2.352655\n",
              "min     2016.000000    2.000000\n",
              "25%     2017.000000    6.000000\n",
              "50%     2018.000000    8.000000\n",
              "75%     2019.000000   10.000000\n",
              "max     2020.000000   16.000000"
            ]
          },
          "metadata": {
            "tags": []
          },
          "execution_count": 184
        }
      ]
    },
    {
      "cell_type": "markdown",
      "metadata": {
        "id": "6eWiOe8RSTHB"
      },
      "source": [
        "####16. Among the movies released between 1990 and 2000 which of them have been described as a \"classic\" in their description? "
      ]
    },
    {
      "cell_type": "code",
      "metadata": {
        "colab": {
          "base_uri": "https://localhost:8080/"
        },
        "id": "mf6gJbEBSUeE",
        "outputId": "78da59a3-c0fb-4d17-f803-449b2511207c"
      },
      "source": [
        "df_netflix[(df_netflix.description.str.contains('classic')) & (df_netflix['release_year']>=1990) & (df_netflix['release_year']<=2000)]['description']"
      ],
      "execution_count": null,
      "outputs": [
        {
          "output_type": "execute_result",
          "data": {
            "text/plain": [
              "1280    Three beauties use their looks, charm and mart...\n",
              "3076    The Olsen twins put a cute new spin on Mark Tw...\n",
              "3156    Months after his classic TV sitcom ends, the l...\n",
              "4370    Hosts Joel and Mike and their robot companions...\n",
              "Name: description, dtype: object"
            ]
          },
          "metadata": {
            "tags": []
          },
          "execution_count": 188
        }
      ]
    },
    {
      "cell_type": "code",
      "metadata": {
        "colab": {
          "base_uri": "https://localhost:8080/",
          "height": 476
        },
        "id": "g3Yv_TK7Qrg0",
        "outputId": "ed17edb0-e984-4487-9f3c-e3bddacd0e17"
      },
      "source": [
        "df_netflix.head()"
      ],
      "execution_count": null,
      "outputs": [
        {
          "output_type": "execute_result",
          "data": {
            "text/html": [
              "<div>\n",
              "<style scoped>\n",
              "    .dataframe tbody tr th:only-of-type {\n",
              "        vertical-align: middle;\n",
              "    }\n",
              "\n",
              "    .dataframe tbody tr th {\n",
              "        vertical-align: top;\n",
              "    }\n",
              "\n",
              "    .dataframe thead th {\n",
              "        text-align: right;\n",
              "    }\n",
              "</style>\n",
              "<table border=\"1\" class=\"dataframe\">\n",
              "  <thead>\n",
              "    <tr style=\"text-align: right;\">\n",
              "      <th></th>\n",
              "      <th>show_id</th>\n",
              "      <th>type</th>\n",
              "      <th>title</th>\n",
              "      <th>director</th>\n",
              "      <th>cast</th>\n",
              "      <th>country</th>\n",
              "      <th>date_added</th>\n",
              "      <th>release_year</th>\n",
              "      <th>rating</th>\n",
              "      <th>duration</th>\n",
              "      <th>listed_in</th>\n",
              "      <th>description</th>\n",
              "      <th>num_cast</th>\n",
              "      <th>primary_genre</th>\n",
              "    </tr>\n",
              "  </thead>\n",
              "  <tbody>\n",
              "    <tr>\n",
              "      <th>0</th>\n",
              "      <td>s1</td>\n",
              "      <td>TV Show</td>\n",
              "      <td>3%</td>\n",
              "      <td>NaN</td>\n",
              "      <td>João Miguel, Bianca Comparato, Michel Gomes, R...</td>\n",
              "      <td>Brazil</td>\n",
              "      <td>August 14, 2020</td>\n",
              "      <td>2020</td>\n",
              "      <td>TV-MA</td>\n",
              "      <td>4 Seasons</td>\n",
              "      <td>International TV Shows, TV Dramas, TV Sci-Fi &amp;...</td>\n",
              "      <td>In a future where the elite inhabit an island ...</td>\n",
              "      <td>11</td>\n",
              "      <td>International TV Shows</td>\n",
              "    </tr>\n",
              "    <tr>\n",
              "      <th>1</th>\n",
              "      <td>s2</td>\n",
              "      <td>Movie</td>\n",
              "      <td>7:19</td>\n",
              "      <td>Jorge Michel Grau</td>\n",
              "      <td>Demián Bichir, Héctor Bonilla, Oscar Serrano, ...</td>\n",
              "      <td>Mexico</td>\n",
              "      <td>December 23, 2016</td>\n",
              "      <td>2016</td>\n",
              "      <td>TV-MA</td>\n",
              "      <td>93 min</td>\n",
              "      <td>Dramas, International Movies</td>\n",
              "      <td>After a devastating earthquake hits Mexico Cit...</td>\n",
              "      <td>6</td>\n",
              "      <td>Dramas</td>\n",
              "    </tr>\n",
              "    <tr>\n",
              "      <th>2</th>\n",
              "      <td>s3</td>\n",
              "      <td>Movie</td>\n",
              "      <td>23:59</td>\n",
              "      <td>Gilbert Chan</td>\n",
              "      <td>Tedd Chan, Stella Chung, Henley Hii, Lawrence ...</td>\n",
              "      <td>Singapore</td>\n",
              "      <td>December 20, 2018</td>\n",
              "      <td>2011</td>\n",
              "      <td>R</td>\n",
              "      <td>78 min</td>\n",
              "      <td>Horror Movies, International Movies</td>\n",
              "      <td>When an army recruit is found dead, his fellow...</td>\n",
              "      <td>9</td>\n",
              "      <td>Horror Movies</td>\n",
              "    </tr>\n",
              "    <tr>\n",
              "      <th>3</th>\n",
              "      <td>s4</td>\n",
              "      <td>Movie</td>\n",
              "      <td>9</td>\n",
              "      <td>Shane Acker</td>\n",
              "      <td>Elijah Wood, John C. Reilly, Jennifer Connelly...</td>\n",
              "      <td>United States</td>\n",
              "      <td>November 16, 2017</td>\n",
              "      <td>2009</td>\n",
              "      <td>PG-13</td>\n",
              "      <td>80 min</td>\n",
              "      <td>Action &amp; Adventure, Independent Movies, Sci-Fi...</td>\n",
              "      <td>In a postapocalyptic world, rag-doll robots hi...</td>\n",
              "      <td>9</td>\n",
              "      <td>Action &amp; Adventure</td>\n",
              "    </tr>\n",
              "    <tr>\n",
              "      <th>4</th>\n",
              "      <td>s5</td>\n",
              "      <td>Movie</td>\n",
              "      <td>21</td>\n",
              "      <td>Robert Luketic</td>\n",
              "      <td>Jim Sturgess, Kevin Spacey, Kate Bosworth, Aar...</td>\n",
              "      <td>United States</td>\n",
              "      <td>January 1, 2020</td>\n",
              "      <td>2008</td>\n",
              "      <td>PG-13</td>\n",
              "      <td>123 min</td>\n",
              "      <td>Dramas</td>\n",
              "      <td>A brilliant group of students become card-coun...</td>\n",
              "      <td>12</td>\n",
              "      <td>Dramas</td>\n",
              "    </tr>\n",
              "  </tbody>\n",
              "</table>\n",
              "</div>"
            ],
            "text/plain": [
              "  show_id     type  title           director                                               cast        country         date_added  release_year rating   duration                                          listed_in                                        description  num_cast           primary_genre\n",
              "0      s1  TV Show     3%                NaN  João Miguel, Bianca Comparato, Michel Gomes, R...         Brazil    August 14, 2020          2020  TV-MA  4 Seasons  International TV Shows, TV Dramas, TV Sci-Fi &...  In a future where the elite inhabit an island ...        11  International TV Shows\n",
              "1      s2    Movie   7:19  Jorge Michel Grau  Demián Bichir, Héctor Bonilla, Oscar Serrano, ...         Mexico  December 23, 2016          2016  TV-MA     93 min                       Dramas, International Movies  After a devastating earthquake hits Mexico Cit...         6                  Dramas\n",
              "2      s3    Movie  23:59       Gilbert Chan  Tedd Chan, Stella Chung, Henley Hii, Lawrence ...      Singapore  December 20, 2018          2011      R     78 min                Horror Movies, International Movies  When an army recruit is found dead, his fellow...         9           Horror Movies\n",
              "3      s4    Movie      9        Shane Acker  Elijah Wood, John C. Reilly, Jennifer Connelly...  United States  November 16, 2017          2009  PG-13     80 min  Action & Adventure, Independent Movies, Sci-Fi...  In a postapocalyptic world, rag-doll robots hi...         9      Action & Adventure\n",
              "4      s5    Movie     21     Robert Luketic  Jim Sturgess, Kevin Spacey, Kate Bosworth, Aar...  United States    January 1, 2020          2008  PG-13    123 min                                             Dramas  A brilliant group of students become card-coun...        12                  Dramas"
            ]
          },
          "metadata": {
            "tags": []
          },
          "execution_count": 176
        }
      ]
    },
    {
      "cell_type": "markdown",
      "metadata": {
        "id": "SAFwb9yzcv1I"
      },
      "source": [
        "####22. Which of the following movies have been directed by a director who has the most number of Indian movies listed in the dataset?"
      ]
    },
    {
      "cell_type": "code",
      "metadata": {
        "colab": {
          "base_uri": "https://localhost:8080/",
          "height": 906
        },
        "id": "iUWLlDG1c_UV",
        "outputId": "7cc51575-1779-42cf-a79b-d7e586dea500"
      },
      "source": [
        "df_netflix[df_netflix['director']==df_netflix[df_netflix.country.str.contains('India') & df_netflix.country.notnull()].groupby('director')['director'].count().nlargest(1).index[0]]"
      ],
      "execution_count": null,
      "outputs": [
        {
          "output_type": "execute_result",
          "data": {
            "text/html": [
              "<div>\n",
              "<style scoped>\n",
              "    .dataframe tbody tr th:only-of-type {\n",
              "        vertical-align: middle;\n",
              "    }\n",
              "\n",
              "    .dataframe tbody tr th {\n",
              "        vertical-align: top;\n",
              "    }\n",
              "\n",
              "    .dataframe thead th {\n",
              "        text-align: right;\n",
              "    }\n",
              "</style>\n",
              "<table border=\"1\" class=\"dataframe\">\n",
              "  <thead>\n",
              "    <tr style=\"text-align: right;\">\n",
              "      <th></th>\n",
              "      <th>show_id</th>\n",
              "      <th>type</th>\n",
              "      <th>title</th>\n",
              "      <th>director</th>\n",
              "      <th>cast</th>\n",
              "      <th>country</th>\n",
              "      <th>date_added</th>\n",
              "      <th>release_year</th>\n",
              "      <th>rating</th>\n",
              "      <th>duration</th>\n",
              "      <th>listed_in</th>\n",
              "      <th>description</th>\n",
              "      <th>num_cast</th>\n",
              "      <th>primary_genre</th>\n",
              "    </tr>\n",
              "  </thead>\n",
              "  <tbody>\n",
              "    <tr>\n",
              "      <th>1262</th>\n",
              "      <td>s1263</td>\n",
              "      <td>Movie</td>\n",
              "      <td>Chal Mere Bhai</td>\n",
              "      <td>David Dhawan</td>\n",
              "      <td>Sanjay Dutt, Salman Khan, Karisma Kapoor, Dali...</td>\n",
              "      <td>India</td>\n",
              "      <td>December 31, 2019</td>\n",
              "      <td>2000</td>\n",
              "      <td>TV-14</td>\n",
              "      <td>132 min</td>\n",
              "      <td>Comedies, International Movies, Romantic Movies</td>\n",
              "      <td>When a secretary saves her tycoon boss's life,...</td>\n",
              "      <td>10</td>\n",
              "      <td>Comedies</td>\n",
              "    </tr>\n",
              "    <tr>\n",
              "      <th>1286</th>\n",
              "      <td>s1287</td>\n",
              "      <td>Movie</td>\n",
              "      <td>Chashme Baddoor</td>\n",
              "      <td>David Dhawan</td>\n",
              "      <td>Rishi Kapoor, Ali Zafar, Taapsee Pannu, Siddha...</td>\n",
              "      <td>India</td>\n",
              "      <td>July 5, 2020</td>\n",
              "      <td>2013</td>\n",
              "      <td>TV-14</td>\n",
              "      <td>121 min</td>\n",
              "      <td>Comedies, International Movies, Music &amp; Musicals</td>\n",
              "      <td>When pretty new neighbor Seema falls for their...</td>\n",
              "      <td>9</td>\n",
              "      <td>Comedies</td>\n",
              "    </tr>\n",
              "    <tr>\n",
              "      <th>1287</th>\n",
              "      <td>s1288</td>\n",
              "      <td>Movie</td>\n",
              "      <td>Chashme Buddoor</td>\n",
              "      <td>David Dhawan</td>\n",
              "      <td>Ali Zafar, Siddharth, Divyendu Sharma, Tapsee ...</td>\n",
              "      <td>India</td>\n",
              "      <td>May 1, 2017</td>\n",
              "      <td>2013</td>\n",
              "      <td>TV-PG</td>\n",
              "      <td>121 min</td>\n",
              "      <td>Comedies, International Movies, Music &amp; Musicals</td>\n",
              "      <td>When pretty new neighbor Seema falls for their...</td>\n",
              "      <td>11</td>\n",
              "      <td>Comedies</td>\n",
              "    </tr>\n",
              "    <tr>\n",
              "      <th>2643</th>\n",
              "      <td>s2644</td>\n",
              "      <td>Movie</td>\n",
              "      <td>Haseena Maan Jaayegi</td>\n",
              "      <td>David Dhawan</td>\n",
              "      <td>Sanjay Dutt, Govinda, Karisma Kapoor, Pooja Ba...</td>\n",
              "      <td>India</td>\n",
              "      <td>March 1, 2018</td>\n",
              "      <td>1999</td>\n",
              "      <td>TV-PG</td>\n",
              "      <td>151 min</td>\n",
              "      <td>Action &amp; Adventure, Comedies, Dramas</td>\n",
              "      <td>A millionaire opens the door to comic complica...</td>\n",
              "      <td>18</td>\n",
              "      <td>Action &amp; Adventure</td>\n",
              "    </tr>\n",
              "    <tr>\n",
              "      <th>3233</th>\n",
              "      <td>s3234</td>\n",
              "      <td>Movie</td>\n",
              "      <td>Judwaa</td>\n",
              "      <td>David Dhawan</td>\n",
              "      <td>Salman Khan, Karisma Kapoor, Rambha, Kader Kha...</td>\n",
              "      <td>India</td>\n",
              "      <td>December 31, 2019</td>\n",
              "      <td>1997</td>\n",
              "      <td>TV-14</td>\n",
              "      <td>133 min</td>\n",
              "      <td>Comedies, International Movies, Romantic Movies</td>\n",
              "      <td>Separated at birth, a pair of identical twins ...</td>\n",
              "      <td>10</td>\n",
              "      <td>Comedies</td>\n",
              "    </tr>\n",
              "    <tr>\n",
              "      <th>3234</th>\n",
              "      <td>s3235</td>\n",
              "      <td>Movie</td>\n",
              "      <td>Judwaa 2</td>\n",
              "      <td>David Dhawan</td>\n",
              "      <td>Varun Dhawan, Jacqueline Fernandez, Tapsee Pan...</td>\n",
              "      <td>India</td>\n",
              "      <td>March 1, 2018</td>\n",
              "      <td>2017</td>\n",
              "      <td>TV-14</td>\n",
              "      <td>145 min</td>\n",
              "      <td>Action &amp; Adventure, Comedies, International Mo...</td>\n",
              "      <td>Separated at birth, twins Raja and Prem couldn...</td>\n",
              "      <td>8</td>\n",
              "      <td>Action &amp; Adventure</td>\n",
              "    </tr>\n",
              "    <tr>\n",
              "      <th>3481</th>\n",
              "      <td>s3482</td>\n",
              "      <td>Movie</td>\n",
              "      <td>Kyo Kii... Main Jhuth Nahin Bolta</td>\n",
              "      <td>David Dhawan</td>\n",
              "      <td>Govinda, Mohnish Bahl, Sharad Kapoor, Satish K...</td>\n",
              "      <td>India</td>\n",
              "      <td>May 16, 2019</td>\n",
              "      <td>2001</td>\n",
              "      <td>TV-PG</td>\n",
              "      <td>150 min</td>\n",
              "      <td>Comedies, International Movies, Sci-Fi &amp; Fantasy</td>\n",
              "      <td>The life and career of a lawyer are thrown int...</td>\n",
              "      <td>8</td>\n",
              "      <td>Comedies</td>\n",
              "    </tr>\n",
              "    <tr>\n",
              "      <th>3874</th>\n",
              "      <td>s3875</td>\n",
              "      <td>Movie</td>\n",
              "      <td>Maine Pyaar Kyun Kiya</td>\n",
              "      <td>David Dhawan</td>\n",
              "      <td>Salman Khan, Sushmita Sen, Sohail Khan, Katrin...</td>\n",
              "      <td>India</td>\n",
              "      <td>December 31, 2019</td>\n",
              "      <td>2005</td>\n",
              "      <td>TV-14</td>\n",
              "      <td>137 min</td>\n",
              "      <td>Comedies, International Movies, Music &amp; Musicals</td>\n",
              "      <td>After lying to his girlfriend, orthopedic surg...</td>\n",
              "      <td>8</td>\n",
              "      <td>Comedies</td>\n",
              "    </tr>\n",
              "    <tr>\n",
              "      <th>4273</th>\n",
              "      <td>s4274</td>\n",
              "      <td>Movie</td>\n",
              "      <td>Mujhse Shaadi Karogi</td>\n",
              "      <td>David Dhawan</td>\n",
              "      <td>Rajpal Yadav, Amrish Puri, Kader Khan, Shashi ...</td>\n",
              "      <td>India</td>\n",
              "      <td>December 31, 2019</td>\n",
              "      <td>2004</td>\n",
              "      <td>TV-PG</td>\n",
              "      <td>158 min</td>\n",
              "      <td>Comedies, International Movies, Romantic Movies</td>\n",
              "      <td>Samir must overcome a hostile horoscope, a hot...</td>\n",
              "      <td>8</td>\n",
              "      <td>Comedies</td>\n",
              "    </tr>\n",
              "  </tbody>\n",
              "</table>\n",
              "</div>"
            ],
            "text/plain": [
              "     show_id   type                              title      director                                               cast country         date_added  release_year rating duration                                          listed_in                                        description  num_cast       primary_genre\n",
              "1262   s1263  Movie                     Chal Mere Bhai  David Dhawan  Sanjay Dutt, Salman Khan, Karisma Kapoor, Dali...   India  December 31, 2019          2000  TV-14  132 min    Comedies, International Movies, Romantic Movies  When a secretary saves her tycoon boss's life,...        10            Comedies\n",
              "1286   s1287  Movie                    Chashme Baddoor  David Dhawan  Rishi Kapoor, Ali Zafar, Taapsee Pannu, Siddha...   India       July 5, 2020          2013  TV-14  121 min   Comedies, International Movies, Music & Musicals  When pretty new neighbor Seema falls for their...         9            Comedies\n",
              "1287   s1288  Movie                    Chashme Buddoor  David Dhawan  Ali Zafar, Siddharth, Divyendu Sharma, Tapsee ...   India        May 1, 2017          2013  TV-PG  121 min   Comedies, International Movies, Music & Musicals  When pretty new neighbor Seema falls for their...        11            Comedies\n",
              "2643   s2644  Movie               Haseena Maan Jaayegi  David Dhawan  Sanjay Dutt, Govinda, Karisma Kapoor, Pooja Ba...   India      March 1, 2018          1999  TV-PG  151 min               Action & Adventure, Comedies, Dramas  A millionaire opens the door to comic complica...        18  Action & Adventure\n",
              "3233   s3234  Movie                             Judwaa  David Dhawan  Salman Khan, Karisma Kapoor, Rambha, Kader Kha...   India  December 31, 2019          1997  TV-14  133 min    Comedies, International Movies, Romantic Movies  Separated at birth, a pair of identical twins ...        10            Comedies\n",
              "3234   s3235  Movie                           Judwaa 2  David Dhawan  Varun Dhawan, Jacqueline Fernandez, Tapsee Pan...   India      March 1, 2018          2017  TV-14  145 min  Action & Adventure, Comedies, International Mo...  Separated at birth, twins Raja and Prem couldn...         8  Action & Adventure\n",
              "3481   s3482  Movie  Kyo Kii... Main Jhuth Nahin Bolta  David Dhawan  Govinda, Mohnish Bahl, Sharad Kapoor, Satish K...   India       May 16, 2019          2001  TV-PG  150 min   Comedies, International Movies, Sci-Fi & Fantasy  The life and career of a lawyer are thrown int...         8            Comedies\n",
              "3874   s3875  Movie              Maine Pyaar Kyun Kiya  David Dhawan  Salman Khan, Sushmita Sen, Sohail Khan, Katrin...   India  December 31, 2019          2005  TV-14  137 min   Comedies, International Movies, Music & Musicals  After lying to his girlfriend, orthopedic surg...         8            Comedies\n",
              "4273   s4274  Movie               Mujhse Shaadi Karogi  David Dhawan  Rajpal Yadav, Amrish Puri, Kader Khan, Shashi ...   India  December 31, 2019          2004  TV-PG  158 min    Comedies, International Movies, Romantic Movies  Samir must overcome a hostile horoscope, a hot...         8            Comedies"
            ]
          },
          "metadata": {
            "tags": []
          },
          "execution_count": 241
        }
      ]
    },
    {
      "cell_type": "markdown",
      "metadata": {
        "id": "bkw2agMjwK_o"
      },
      "source": [
        "###Dataset 6. zomato.csv\n",
        "####10. What is the Mean Absolute Deviation of the Votes column? \n",
        "\n",
        "Note: Make sure you have not dropped Null values. \n",
        "\n",
        "The dataset can be imported as pandas dataframe using the following link: https://raw.githubusercontent.com/insaid2018/INSAID-Activities/main/Data%20Detective%20Challenge/zomato.csv"
      ]
    },
    {
      "cell_type": "code",
      "metadata": {
        "id": "6I_i4quZwL7E"
      },
      "source": [
        "df_zomato = pd.read_csv('https://raw.githubusercontent.com/insaid2018/INSAID-Activities/main/Data%20Detective%20Challenge/zomato.csv', encoding='latin-1')"
      ],
      "execution_count": null,
      "outputs": []
    },
    {
      "cell_type": "code",
      "metadata": {
        "colab": {
          "base_uri": "https://localhost:8080/"
        },
        "id": "npbMGnnwyGFl",
        "outputId": "a32213ba-9de5-43e7-b08c-6f8dd072f6fa"
      },
      "source": [
        "df_zomato['Votes'].mad(axis=0, skipna=False)"
      ],
      "execution_count": null,
      "outputs": [
        {
          "output_type": "execute_result",
          "data": {
            "text/plain": [
              "193.46493877036863"
            ]
          },
          "metadata": {
            "tags": []
          },
          "execution_count": 110
        }
      ]
    },
    {
      "cell_type": "code",
      "metadata": {
        "colab": {
          "base_uri": "https://localhost:8080/"
        },
        "id": "SsVwwr54xc5S",
        "outputId": "d69a1f1a-0e01-43dc-c330-e6b7df6367d8"
      },
      "source": [
        "df_zomato['Votes'].notnull().sum()"
      ],
      "execution_count": null,
      "outputs": [
        {
          "output_type": "execute_result",
          "data": {
            "text/plain": [
              "9551"
            ]
          },
          "metadata": {
            "tags": []
          },
          "execution_count": 105
        }
      ]
    },
    {
      "cell_type": "markdown",
      "metadata": {
        "id": "zwUhFpErgXbS"
      },
      "source": [
        "####23. Segregate the third listed cuisine of every restaurant in a new column and calculate which cuisine in that new column has the second-highest frequency of occurrence? \n",
        "\n",
        "For example, if a row corresponding to the \"Cuisine\" column has Bakery, Mexican, North Indian, and Chinese listed in it, then the third listed Cuisine for that particular row would be North Indian."
      ]
    },
    {
      "cell_type": "code",
      "metadata": {
        "id": "Wr4qsDGzhtsp"
      },
      "source": [
        "df_zomato['new_column'] = df_zomato.Cuisines.str.split(',').str[2]"
      ],
      "execution_count": null,
      "outputs": []
    },
    {
      "cell_type": "code",
      "metadata": {
        "colab": {
          "base_uri": "https://localhost:8080/"
        },
        "id": "1bKYyqsTvH9b",
        "outputId": "7b8a1026-a547-4acd-ce8a-60326b29d5c4"
      },
      "source": [
        "totals = df_zomato.groupby('new_column').new_column.count().nlargest(2)\n",
        "# Note nth is 0 indexed\n",
        "#second = df_zomato.sort_values('new_column', ascending=False).groupby('new_column').new_column.nth(1)\n",
        "#ans = pd.DataFrame({'n': totals, 'second': second})\n",
        "print(totals)"
      ],
      "execution_count": null,
      "outputs": [
        {
          "output_type": "stream",
          "text": [
            "new_column\n",
            " Chinese      594\n",
            " Fast Food    385\n",
            "Name: new_column, dtype: int64\n"
          ],
          "name": "stdout"
        }
      ]
    },
    {
      "cell_type": "markdown",
      "metadata": {
        "id": "7_rLJmtTwqfA"
      },
      "source": [
        "Second highest frequency is of Fast Food: 385"
      ]
    },
    {
      "cell_type": "markdown",
      "metadata": {
        "id": "1I8BEya9xBYc"
      },
      "source": [
        "### 25 Which of the following arguments can be used to successfully read the Zomato CSV file? \n",
        "\n",
        "\n",
        "## I just used encoding='latin-1'"
      ]
    },
    {
      "cell_type": "code",
      "metadata": {
        "colab": {
          "base_uri": "https://localhost:8080/",
          "height": 768
        },
        "id": "T21UlEsQhP9U",
        "outputId": "095f8ade-e52a-42ad-959b-dcc4c05e72ba"
      },
      "source": [
        "df_zomato.head()"
      ],
      "execution_count": null,
      "outputs": [
        {
          "output_type": "execute_result",
          "data": {
            "text/html": [
              "<div>\n",
              "<style scoped>\n",
              "    .dataframe tbody tr th:only-of-type {\n",
              "        vertical-align: middle;\n",
              "    }\n",
              "\n",
              "    .dataframe tbody tr th {\n",
              "        vertical-align: top;\n",
              "    }\n",
              "\n",
              "    .dataframe thead th {\n",
              "        text-align: right;\n",
              "    }\n",
              "</style>\n",
              "<table border=\"1\" class=\"dataframe\">\n",
              "  <thead>\n",
              "    <tr style=\"text-align: right;\">\n",
              "      <th></th>\n",
              "      <th>Restaurant ID</th>\n",
              "      <th>Restaurant Name</th>\n",
              "      <th>Country Code</th>\n",
              "      <th>City</th>\n",
              "      <th>Address</th>\n",
              "      <th>Locality</th>\n",
              "      <th>Locality Verbose</th>\n",
              "      <th>Longitude</th>\n",
              "      <th>Latitude</th>\n",
              "      <th>Cuisines</th>\n",
              "      <th>Average Cost for two</th>\n",
              "      <th>Currency</th>\n",
              "      <th>Has Table booking</th>\n",
              "      <th>Has Online delivery</th>\n",
              "      <th>Is delivering now</th>\n",
              "      <th>Switch to order menu</th>\n",
              "      <th>Price range</th>\n",
              "      <th>Aggregate rating</th>\n",
              "      <th>Rating color</th>\n",
              "      <th>Rating text</th>\n",
              "      <th>Votes</th>\n",
              "      <th>new_column</th>\n",
              "    </tr>\n",
              "  </thead>\n",
              "  <tbody>\n",
              "    <tr>\n",
              "      <th>0</th>\n",
              "      <td>6317637</td>\n",
              "      <td>Le Petit Souffle</td>\n",
              "      <td>162</td>\n",
              "      <td>Makati City</td>\n",
              "      <td>Third Floor, Century City Mall, Kalayaan Avenu...</td>\n",
              "      <td>Century City Mall, Poblacion, Makati City</td>\n",
              "      <td>Century City Mall, Poblacion, Makati City, Mak...</td>\n",
              "      <td>121.027535</td>\n",
              "      <td>14.565443</td>\n",
              "      <td>French, Japanese, Desserts</td>\n",
              "      <td>1100</td>\n",
              "      <td>Botswana Pula(P)</td>\n",
              "      <td>Yes</td>\n",
              "      <td>No</td>\n",
              "      <td>No</td>\n",
              "      <td>No</td>\n",
              "      <td>3</td>\n",
              "      <td>4.8</td>\n",
              "      <td>Dark Green</td>\n",
              "      <td>Excellent</td>\n",
              "      <td>314</td>\n",
              "      <td>Desserts</td>\n",
              "    </tr>\n",
              "    <tr>\n",
              "      <th>1</th>\n",
              "      <td>6304287</td>\n",
              "      <td>Izakaya Kikufuji</td>\n",
              "      <td>162</td>\n",
              "      <td>Makati City</td>\n",
              "      <td>Little Tokyo, 2277 Chino Roces Avenue, Legaspi...</td>\n",
              "      <td>Little Tokyo, Legaspi Village, Makati City</td>\n",
              "      <td>Little Tokyo, Legaspi Village, Makati City, Ma...</td>\n",
              "      <td>121.014101</td>\n",
              "      <td>14.553708</td>\n",
              "      <td>Japanese</td>\n",
              "      <td>1200</td>\n",
              "      <td>Botswana Pula(P)</td>\n",
              "      <td>Yes</td>\n",
              "      <td>No</td>\n",
              "      <td>No</td>\n",
              "      <td>No</td>\n",
              "      <td>3</td>\n",
              "      <td>4.5</td>\n",
              "      <td>Dark Green</td>\n",
              "      <td>Excellent</td>\n",
              "      <td>591</td>\n",
              "      <td>NaN</td>\n",
              "    </tr>\n",
              "    <tr>\n",
              "      <th>2</th>\n",
              "      <td>6300002</td>\n",
              "      <td>Heat - Edsa Shangri-La</td>\n",
              "      <td>162</td>\n",
              "      <td>Mandaluyong City</td>\n",
              "      <td>Edsa Shangri-La, 1 Garden Way, Ortigas, Mandal...</td>\n",
              "      <td>Edsa Shangri-La, Ortigas, Mandaluyong City</td>\n",
              "      <td>Edsa Shangri-La, Ortigas, Mandaluyong City, Ma...</td>\n",
              "      <td>121.056831</td>\n",
              "      <td>14.581404</td>\n",
              "      <td>Seafood, Asian, Filipino, Indian</td>\n",
              "      <td>4000</td>\n",
              "      <td>Botswana Pula(P)</td>\n",
              "      <td>Yes</td>\n",
              "      <td>No</td>\n",
              "      <td>No</td>\n",
              "      <td>No</td>\n",
              "      <td>4</td>\n",
              "      <td>4.4</td>\n",
              "      <td>Green</td>\n",
              "      <td>Very Good</td>\n",
              "      <td>270</td>\n",
              "      <td>Filipino</td>\n",
              "    </tr>\n",
              "    <tr>\n",
              "      <th>3</th>\n",
              "      <td>6318506</td>\n",
              "      <td>Ooma</td>\n",
              "      <td>162</td>\n",
              "      <td>Mandaluyong City</td>\n",
              "      <td>Third Floor, Mega Fashion Hall, SM Megamall, O...</td>\n",
              "      <td>SM Megamall, Ortigas, Mandaluyong City</td>\n",
              "      <td>SM Megamall, Ortigas, Mandaluyong City, Mandal...</td>\n",
              "      <td>121.056475</td>\n",
              "      <td>14.585318</td>\n",
              "      <td>Japanese, Sushi</td>\n",
              "      <td>1500</td>\n",
              "      <td>Botswana Pula(P)</td>\n",
              "      <td>No</td>\n",
              "      <td>No</td>\n",
              "      <td>No</td>\n",
              "      <td>No</td>\n",
              "      <td>4</td>\n",
              "      <td>4.9</td>\n",
              "      <td>Dark Green</td>\n",
              "      <td>Excellent</td>\n",
              "      <td>365</td>\n",
              "      <td>NaN</td>\n",
              "    </tr>\n",
              "    <tr>\n",
              "      <th>4</th>\n",
              "      <td>6314302</td>\n",
              "      <td>Sambo Kojin</td>\n",
              "      <td>162</td>\n",
              "      <td>Mandaluyong City</td>\n",
              "      <td>Third Floor, Mega Atrium, SM Megamall, Ortigas...</td>\n",
              "      <td>SM Megamall, Ortigas, Mandaluyong City</td>\n",
              "      <td>SM Megamall, Ortigas, Mandaluyong City, Mandal...</td>\n",
              "      <td>121.057508</td>\n",
              "      <td>14.584450</td>\n",
              "      <td>Japanese, Korean</td>\n",
              "      <td>1500</td>\n",
              "      <td>Botswana Pula(P)</td>\n",
              "      <td>Yes</td>\n",
              "      <td>No</td>\n",
              "      <td>No</td>\n",
              "      <td>No</td>\n",
              "      <td>4</td>\n",
              "      <td>4.8</td>\n",
              "      <td>Dark Green</td>\n",
              "      <td>Excellent</td>\n",
              "      <td>229</td>\n",
              "      <td>NaN</td>\n",
              "    </tr>\n",
              "  </tbody>\n",
              "</table>\n",
              "</div>"
            ],
            "text/plain": [
              "   Restaurant ID         Restaurant Name  Country Code              City                                            Address                                    Locality                                   Locality Verbose   Longitude   Latitude                          Cuisines  Average Cost for two          Currency Has Table booking Has Online delivery Is delivering now Switch to order menu  Price range  Aggregate rating Rating color Rating text  Votes new_column\n",
              "0        6317637        Le Petit Souffle           162       Makati City  Third Floor, Century City Mall, Kalayaan Avenu...   Century City Mall, Poblacion, Makati City  Century City Mall, Poblacion, Makati City, Mak...  121.027535  14.565443        French, Japanese, Desserts                  1100  Botswana Pula(P)               Yes                  No                No                   No            3               4.8   Dark Green   Excellent    314   Desserts\n",
              "1        6304287        Izakaya Kikufuji           162       Makati City  Little Tokyo, 2277 Chino Roces Avenue, Legaspi...  Little Tokyo, Legaspi Village, Makati City  Little Tokyo, Legaspi Village, Makati City, Ma...  121.014101  14.553708                          Japanese                  1200  Botswana Pula(P)               Yes                  No                No                   No            3               4.5   Dark Green   Excellent    591        NaN\n",
              "2        6300002  Heat - Edsa Shangri-La           162  Mandaluyong City  Edsa Shangri-La, 1 Garden Way, Ortigas, Mandal...  Edsa Shangri-La, Ortigas, Mandaluyong City  Edsa Shangri-La, Ortigas, Mandaluyong City, Ma...  121.056831  14.581404  Seafood, Asian, Filipino, Indian                  4000  Botswana Pula(P)               Yes                  No                No                   No            4               4.4        Green   Very Good    270   Filipino\n",
              "3        6318506                    Ooma           162  Mandaluyong City  Third Floor, Mega Fashion Hall, SM Megamall, O...      SM Megamall, Ortigas, Mandaluyong City  SM Megamall, Ortigas, Mandaluyong City, Mandal...  121.056475  14.585318                   Japanese, Sushi                  1500  Botswana Pula(P)                No                  No                No                   No            4               4.9   Dark Green   Excellent    365        NaN\n",
              "4        6314302             Sambo Kojin           162  Mandaluyong City  Third Floor, Mega Atrium, SM Megamall, Ortigas...      SM Megamall, Ortigas, Mandaluyong City  SM Megamall, Ortigas, Mandaluyong City, Mandal...  121.057508  14.584450                  Japanese, Korean                  1500  Botswana Pula(P)               Yes                  No                No                   No            4               4.8   Dark Green   Excellent    229        NaN"
            ]
          },
          "metadata": {
            "tags": []
          },
          "execution_count": 270
        }
      ]
    },
    {
      "cell_type": "code",
      "metadata": {
        "id": "I-X4oYv8gdo4"
      },
      "source": [
        ""
      ],
      "execution_count": null,
      "outputs": []
    }
  ]
}